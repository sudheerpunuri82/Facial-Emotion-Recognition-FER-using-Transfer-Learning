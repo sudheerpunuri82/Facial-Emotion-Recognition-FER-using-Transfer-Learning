{
  "cells": [
    {
      "cell_type": "markdown",
      "metadata": {
        "id": "view-in-github",
        "colab_type": "text"
      },
      "source": [
        "<a href=\"https://colab.research.google.com/github/sudheerpunuri82/Facial-Emotion-Recognition-FER-using-Transfer-Learning/blob/main/efficientnet_xgboost_CKPlus.ipynb\" target=\"_parent\"><img src=\"https://colab.research.google.com/assets/colab-badge.svg\" alt=\"Open In Colab\"/></a>"
      ]
    },
    {
      "cell_type": "code",
      "execution_count": null,
      "metadata": {
        "id": "OXTa1UdVxglt"
      },
      "outputs": [],
      "source": [
        "import os\n",
        "import cv2\n",
        "import numpy as np\n",
        "import pandas as pd\n",
        "import seaborn as sn\n",
        "import tensorflow as tf\n",
        "import matplotlib.pyplot as plt\n",
        "import matplotlib.cm as cm\n",
        "\n",
        "from google.colab import drive\n",
        "\n",
        "from PIL import Image\n",
        "from sklearn.model_selection import train_test_split\n",
        "from sklearn.preprocessing import LabelEncoder\n",
        "\n",
        "from tensorflow.keras.models import Model\n",
        "from tensorflow.keras.applications import EfficientNetB0,EfficientNetB5,EfficientNetB6,EfficientNetB7\n",
        "from tensorflow.keras.layers import Dropout, Dense, Input, GlobalAveragePooling2D\n",
        "from tensorflow.keras.optimizers import Adam\n",
        "from tensorflow.keras.callbacks import ModelCheckpoint, EarlyStopping, ReduceLROnPlateau\n",
        "from tensorflow.keras.preprocessing.image import ImageDataGenerator\n",
        "from tensorflow.keras.utils import to_categorical, plot_model"
      ]
    },
    {
      "cell_type": "code",
      "execution_count": null,
      "metadata": {
        "id": "c-MSBVIMxlNi"
      },
      "outputs": [],
      "source": [
        "# Auxiliary function for data distribution visualization\n",
        "def data_visualization(classes, data):\n",
        "    \"\"\"\n",
        "    Vizualize the distribution of the dataset.\n",
        "\n",
        "    This function presents the number of samples each category has\n",
        "    through a bar plot.\n",
        "\n",
        "    Args:\n",
        "        classes (list): List of the emotion-categories\n",
        "        data (list): List of the number of images per category\n",
        "\n",
        "    Returns:\n",
        "        No value\n",
        "    \"\"\"\n",
        "\n",
        "    fig, ax = plt.subplots(figsize=(9, 5))\n",
        "    ax.bar(classes, data)\n",
        "    ax.set(title=\"Dataset's distribution for each Emotion class\")\n",
        "    ax.set(xlabel=\"Emotions\", ylabel=\"#Images\");\n",
        "    ax.grid()\n",
        "\n",
        "\n",
        "def load_data(data_path):\n",
        "    \"\"\"\n",
        "    Load the dataset to the memory.\n",
        "\n",
        "    This function takes a data path and loads all images (along with their\n",
        "    corresponding labels) as numpy arrays per category to the memory.\n",
        "    Subsequently, the labels are one-hot encoded. Before the images, labels\n",
        "    are returned, the distribution of the dataset is presented.\n",
        "\n",
        "    Args:\n",
        "        data_path (str): The path of the dataset's whereabouts\n",
        "\n",
        "    Returns:\n",
        "        data (numpy.ndarray): The images of the dataset\n",
        "        labels (numpy.ndarray): The labels of each image\n",
        "    \"\"\"\n",
        "\n",
        "    subfolders_ck = os.listdir(data_path)\n",
        "\n",
        "    print(\"[INFO] Dataset Loading...\\n\")\n",
        "\n",
        "    img_data_list=[]\n",
        "    labels_list = []\n",
        "    num_images_per_class = []\n",
        "\n",
        "    for category in subfolders_ck:\n",
        "        img_list=os.listdir(data_path +'/'+ category)\n",
        "\n",
        "        print('Loading :', len(img_list), 'images of category', category)\n",
        "        for img in img_list:\n",
        "            # Load an image from this path\n",
        "            pixels=cv2.imread(data_path + '/'+ category + '/'+ img )\n",
        "            face_array=cv2.resize(pixels, None, fx=1, fy=1,interpolation = cv2.INTER_CUBIC)\n",
        "\n",
        "            img_data_list.append(face_array)\n",
        "            labels_list.append(category)\n",
        "\n",
        "        num_images_per_class.append(len(img_list))\n",
        "\n",
        "    le = LabelEncoder()\n",
        "    labels = le.fit_transform(labels_list)\n",
        "    labels = to_categorical(labels, 6)\n",
        "    data = np.array(img_data_list)\n",
        "\n",
        "    data_visualization(subfolders_ck, num_images_per_class)\n",
        "\n",
        "    # Dataset Summary\n",
        "    print(\"\\nTotal number of uploaded data: \", data.shape[0],\n",
        "          \", with data shape\", (data.shape[1],data.shape[2],data.shape[3]))\n",
        "\n",
        "    return data, labels"
      ]
    },
    {
      "cell_type": "code",
      "execution_count": null,
      "metadata": {
        "colab": {
          "base_uri": "https://localhost:8080/",
          "height": 686
        },
        "id": "4ufoIfpwy_ia",
        "outputId": "12fdbcd5-ce6d-48ad-c3b2-a9e750c1fb51"
      },
      "outputs": [
        {
          "output_type": "stream",
          "name": "stdout",
          "text": [
            "[INFO] Dataset Loading...\n",
            "\n",
            "Loading : 135 images of category 0\n",
            "Loading : 177 images of category 1\n",
            "Loading : 75 images of category 2\n",
            "Loading : 207 images of category 3\n",
            "Loading : 84 images of category 4\n",
            "Loading : 249 images of category 5\n",
            "\n",
            "Total number of uploaded data:  927 , with data shape (48, 48, 3)\n"
          ]
        },
        {
          "output_type": "execute_result",
          "data": {
            "text/plain": [
              "(927, 6)"
            ]
          },
          "metadata": {},
          "execution_count": 3
        },
        {
          "output_type": "display_data",
          "data": {
            "text/plain": [
              "<Figure size 900x500 with 1 Axes>"
            ],
            "image/png": "[encoded data removed]"
          },
          "metadata": {}
        }
      ],
      "source": [
        "data_path_ck = '/content/drive/MyDrive/CKPlus48'\n",
        "data, labels = load_data(data_path_ck)\n",
        "l = labels\n",
        "l.shape"
      ]
    },
    {
      "cell_type": "code",
      "execution_count": null,
      "metadata": {
        "id": "tdTttFl7zKIO"
      },
      "outputs": [],
      "source": [
        "from sklearn.model_selection import train_test_split\n",
        "X_train, X_test, y_train, y_test= train_test_split(data, l,test_size=0.2)\n",
        "# print(data.shape)\n",
        "# print(labels.shape)"
      ]
    },
    {
      "cell_type": "code",
      "execution_count": null,
      "metadata": {
        "colab": {
          "base_uri": "https://localhost:8080/"
        },
        "id": "dioJUjqvAZ7q",
        "outputId": "d0fd9fc4-0a13-462e-c80d-b95cc5c92a09"
      },
      "outputs": [
        {
          "output_type": "execute_result",
          "data": {
            "text/plain": [
              "(927, 6)"
            ]
          },
          "metadata": {},
          "execution_count": 5
        }
      ],
      "source": [
        "labels.shape\n",
        "# labels = labels.reshape(6)\n",
        "labels.shape"
      ]
    },
    {
      "cell_type": "code",
      "execution_count": null,
      "metadata": {
        "id": "vT3pwmy2zK7L",
        "colab": {
          "base_uri": "https://localhost:8080/"
        },
        "outputId": "03fe0547-cd43-43cf-ee14-8239d0b6ea44"
      },
      "outputs": [
        {
          "output_type": "stream",
          "name": "stdout",
          "text": [
            "X_train has shape: (741, 48, 48, 3)\n",
            "y_train has shape: (741, 6)\n",
            "\n"
          ]
        }
      ],
      "source": [
        "print(f\"X_train has shape: {X_train.shape}\")\n",
        "print(f\"y_train has shape: {y_train.shape}\\n\")\n",
        "\n"
      ]
    },
    {
      "cell_type": "code",
      "execution_count": null,
      "metadata": {
        "id": "0sNPQMjd1WUl"
      },
      "outputs": [],
      "source": [
        "X_train, X_val, y_train, y_val = train_test_split(X_train, y_train, test_size=.2)"
      ]
    },
    {
      "cell_type": "code",
      "execution_count": null,
      "metadata": {
        "id": "YLXqHXPq5FwN",
        "colab": {
          "base_uri": "https://localhost:8080/"
        },
        "outputId": "5d55a051-5394-4c0b-f0fe-7a70947f90ec"
      },
      "outputs": [
        {
          "output_type": "stream",
          "name": "stdout",
          "text": [
            "X_val:  (149, 48, 48, 3)\n",
            "X_train:  (592, 48, 48, 3)\n",
            "X_test:  (186, 48, 48, 3)\n"
          ]
        }
      ],
      "source": [
        "print(\"X_val: \",X_val.shape)\n",
        "print(\"X_train: \",X_train.shape)\n",
        "print(\"X_test: \",X_test.shape)"
      ]
    },
    {
      "cell_type": "code",
      "execution_count": null,
      "metadata": {
        "colab": {
          "base_uri": "https://localhost:8080/",
          "height": 675
        },
        "id": "Ig-BeN7QzMaD",
        "outputId": "2aa07583-edf5-478c-8290-232cf3d4e15e"
      },
      "outputs": [
        {
          "output_type": "display_data",
          "data": {
            "text/plain": [
              "<Figure size 1000x800 with 9 Axes>"
            ],
            "image/png": "[encoded data removed]"
          },
          "metadata": {}
        }
      ],
      "source": [
        "# Map the emotion-categories\n",
        "mapping = {0:'anger', 1:'disgust', 2:'fear', 3:'happy', 4:'sadness', 5:'surprise'}\n",
        "\n",
        "# Initialize the training data augmentation object\n",
        "trainAug = ImageDataGenerator(rotation_range=15,\n",
        "                              zoom_range=0.15,\n",
        "                              width_shift_range=0.2,\n",
        "                              brightness_range=(.6, 1.2),\n",
        "                              shear_range=.15,\n",
        "                              height_shift_range=0.2,\n",
        "                              horizontal_flip=True,\n",
        "                              fill_mode=\"nearest\")\n",
        "\n",
        "# Randomly vizualize some augmented samples\n",
        "plt.figure(figsize=(10,8))\n",
        "for i, (image, label) in enumerate(trainAug.flow(X_train, y_train, batch_size=1)):\n",
        "    if i == 9:\n",
        "        break\n",
        "    ax = plt.subplot(3, 3, i + 1)\n",
        "    plt.imshow(np.squeeze(image)/255.)\n",
        "    plt.title(mapping[np.argmax(label)])\n",
        "    plt.axis(\"off\")\n"
      ]
    },
    {
      "cell_type": "code",
      "execution_count": null,
      "metadata": {
        "colab": {
          "base_uri": "https://localhost:8080/"
        },
        "id": "T29CGjJvzQoD",
        "outputId": "704f7566-5f5a-4647-b84d-69024e8894ed"
      },
      "outputs": [
        {
          "output_type": "stream",
          "name": "stderr",
          "text": [
            "WARNING:absl:`lr` is deprecated in Keras optimizer, please use `learning_rate` or use the legacy optimizer, e.g.,tf.keras.optimizers.legacy.Adam.\n"
          ]
        }
      ],
      "source": [
        "inputs = Input(shape=(48,48,3))\n",
        "adam = Adam(lr=1e-4)\n"
      ]
    },
    {
      "cell_type": "code",
      "execution_count": null,
      "metadata": {
        "id": "Q9lYo3WhzvtT"
      },
      "outputs": [],
      "source": [
        "reduce_lr = ReduceLROnPlateau(monitor='val_loss', factor=0.1, patience=10,\n",
        "                             verbose=0, mode='auto', min_delta=0.0001,\n",
        "                               cooldown=0, min_lr=0)"
      ]
    },
    {
      "cell_type": "code",
      "execution_count": null,
      "metadata": {
        "colab": {
          "base_uri": "https://localhost:8080/"
        },
        "id": "h2k9enqCzSzv",
        "outputId": "dabfb28d-5c26-404e-def2-32d2807660c6"
      },
      "outputs": [
        {
          "output_type": "stream",
          "name": "stdout",
          "text": [
            "Downloading data from https://storage.googleapis.com/keras-applications/efficientnetb0_notop.h5\n",
            "16705208/16705208 [==============================] - 2s 0us/step\n"
          ]
        }
      ],
      "source": [
        "# CHANGE THE VALUE\n",
        "from tensorflow.keras.applications import EfficientNetB0,EfficientNetB6\n",
        "from tensorflow.keras.layers import Dropout, Dense, Input, GlobalAveragePooling2D\n",
        "from tensorflow.keras.optimizers import Adam\n",
        "base_model = EfficientNetB0(include_top=False, weights='imagenet',\n",
        "                                drop_connect_rate=0.33, input_tensor=inputs)\n",
        "x = GlobalAveragePooling2D()(base_model.output)\n",
        "x = Dropout(.35, name=\"top_dropout\")(x)\n",
        "x = Dense(1024, activation='relu')(x)\n",
        "\n",
        "outputs = Dense(6, activation='softmax')(x)\n",
        "\n",
        "model_dense2_output = Model(inputs = inputs, outputs = x)\n",
        "model = Model(inputs=inputs , outputs = outputs)\n",
        "model = Model(inputs, outputs)"
      ]
    },
    {
      "cell_type": "code",
      "execution_count": null,
      "metadata": {
        "colab": {
          "base_uri": "https://localhost:8080/"
        },
        "id": "Gn3Tl9-WzVqB",
        "outputId": "9bbb4e80-47ae-49f4-a55f-d527842ef417"
      },
      "outputs": [
        {
          "output_type": "stream",
          "name": "stdout",
          "text": [
            "Model: \"model_2\"\n",
            "__________________________________________________________________________________________________\n",
            " Layer (type)                   Output Shape         Param #     Connected to                     \n",
            "==================================================================================================\n",
            " input_1 (InputLayer)           [(None, 48, 48, 3)]  0           []                               \n",
            "                                                                                                  \n",
            " rescaling (Rescaling)          (None, 48, 48, 3)    0           ['input_1[0][0]']                \n",
            "                                                                                                  \n",
            " normalization (Normalization)  (None, 48, 48, 3)    7           ['rescaling[0][0]']              \n",
            "                                                                                                  \n",
            " rescaling_1 (Rescaling)        (None, 48, 48, 3)    0           ['normalization[0][0]']          \n",
            "                                                                                                  \n",
            " stem_conv_pad (ZeroPadding2D)  (None, 49, 49, 3)    0           ['rescaling_1[0][0]']            \n",
            "                                                                                                  \n",
            " stem_conv (Conv2D)             (None, 24, 24, 32)   864         ['stem_conv_pad[0][0]']          \n",
            "                                                                                                  \n",
            " stem_bn (BatchNormalization)   (None, 24, 24, 32)   128         ['stem_conv[0][0]']              \n",
            "                                                                                                  \n",
            " stem_activation (Activation)   (None, 24, 24, 32)   0           ['stem_bn[0][0]']                \n",
            "                                                                                                  \n",
            " block1a_dwconv (DepthwiseConv2  (None, 24, 24, 32)  288         ['stem_activation[0][0]']        \n",
            " D)                                                                                               \n",
            "                                                                                                  \n",
            " block1a_bn (BatchNormalization  (None, 24, 24, 32)  128         ['block1a_dwconv[0][0]']         \n",
            " )                                                                                                \n",
            "                                                                                                  \n",
            " block1a_activation (Activation  (None, 24, 24, 32)  0           ['block1a_bn[0][0]']             \n",
            " )                                                                                                \n",
            "                                                                                                  \n",
            " block1a_se_squeeze (GlobalAver  (None, 32)          0           ['block1a_activation[0][0]']     \n",
            " agePooling2D)                                                                                    \n",
            "                                                                                                  \n",
            " block1a_se_reshape (Reshape)   (None, 1, 1, 32)     0           ['block1a_se_squeeze[0][0]']     \n",
            "                                                                                                  \n",
            " block1a_se_reduce (Conv2D)     (None, 1, 1, 8)      264         ['block1a_se_reshape[0][0]']     \n",
            "                                                                                                  \n",
            " block1a_se_expand (Conv2D)     (None, 1, 1, 32)     288         ['block1a_se_reduce[0][0]']      \n",
            "                                                                                                  \n",
            " block1a_se_excite (Multiply)   (None, 24, 24, 32)   0           ['block1a_activation[0][0]',     \n",
            "                                                                  'block1a_se_expand[0][0]']      \n",
            "                                                                                                  \n",
            " block1a_project_conv (Conv2D)  (None, 24, 24, 16)   512         ['block1a_se_excite[0][0]']      \n",
            "                                                                                                  \n",
            " block1a_project_bn (BatchNorma  (None, 24, 24, 16)  64          ['block1a_project_conv[0][0]']   \n",
            " lization)                                                                                        \n",
            "                                                                                                  \n",
            " block2a_expand_conv (Conv2D)   (None, 24, 24, 96)   1536        ['block1a_project_bn[0][0]']     \n",
            "                                                                                                  \n",
            " block2a_expand_bn (BatchNormal  (None, 24, 24, 96)  384         ['block2a_expand_conv[0][0]']    \n",
            " ization)                                                                                         \n",
            "                                                                                                  \n",
            " block2a_expand_activation (Act  (None, 24, 24, 96)  0           ['block2a_expand_bn[0][0]']      \n",
            " ivation)                                                                                         \n",
            "                                                                                                  \n",
            " block2a_dwconv_pad (ZeroPaddin  (None, 25, 25, 96)  0           ['block2a_expand_activation[0][0]\n",
            " g2D)                                                            ']                               \n",
            "                                                                                                  \n",
            " block2a_dwconv (DepthwiseConv2  (None, 12, 12, 96)  864         ['block2a_dwconv_pad[0][0]']     \n",
            " D)                                                                                               \n",
            "                                                                                                  \n",
            " block2a_bn (BatchNormalization  (None, 12, 12, 96)  384         ['block2a_dwconv[0][0]']         \n",
            " )                                                                                                \n",
            "                                                                                                  \n",
            " block2a_activation (Activation  (None, 12, 12, 96)  0           ['block2a_bn[0][0]']             \n",
            " )                                                                                                \n",
            "                                                                                                  \n",
            " block2a_se_squeeze (GlobalAver  (None, 96)          0           ['block2a_activation[0][0]']     \n",
            " agePooling2D)                                                                                    \n",
            "                                                                                                  \n",
            " block2a_se_reshape (Reshape)   (None, 1, 1, 96)     0           ['block2a_se_squeeze[0][0]']     \n",
            "                                                                                                  \n",
            " block2a_se_reduce (Conv2D)     (None, 1, 1, 4)      388         ['block2a_se_reshape[0][0]']     \n",
            "                                                                                                  \n",
            " block2a_se_expand (Conv2D)     (None, 1, 1, 96)     480         ['block2a_se_reduce[0][0]']      \n",
            "                                                                                                  \n",
            " block2a_se_excite (Multiply)   (None, 12, 12, 96)   0           ['block2a_activation[0][0]',     \n",
            "                                                                  'block2a_se_expand[0][0]']      \n",
            "                                                                                                  \n",
            " block2a_project_conv (Conv2D)  (None, 12, 12, 24)   2304        ['block2a_se_excite[0][0]']      \n",
            "                                                                                                  \n",
            " block2a_project_bn (BatchNorma  (None, 12, 12, 24)  96          ['block2a_project_conv[0][0]']   \n",
            " lization)                                                                                        \n",
            "                                                                                                  \n",
            " block2b_expand_conv (Conv2D)   (None, 12, 12, 144)  3456        ['block2a_project_bn[0][0]']     \n",
            "                                                                                                  \n",
            " block2b_expand_bn (BatchNormal  (None, 12, 12, 144)  576        ['block2b_expand_conv[0][0]']    \n",
            " ization)                                                                                         \n",
            "                                                                                                  \n",
            " block2b_expand_activation (Act  (None, 12, 12, 144)  0          ['block2b_expand_bn[0][0]']      \n",
            " ivation)                                                                                         \n",
            "                                                                                                  \n",
            " block2b_dwconv (DepthwiseConv2  (None, 12, 12, 144)  1296       ['block2b_expand_activation[0][0]\n",
            " D)                                                              ']                               \n",
            "                                                                                                  \n",
            " block2b_bn (BatchNormalization  (None, 12, 12, 144)  576        ['block2b_dwconv[0][0]']         \n",
            " )                                                                                                \n",
            "                                                                                                  \n",
            " block2b_activation (Activation  (None, 12, 12, 144)  0          ['block2b_bn[0][0]']             \n",
            " )                                                                                                \n",
            "                                                                                                  \n",
            " block2b_se_squeeze (GlobalAver  (None, 144)         0           ['block2b_activation[0][0]']     \n",
            " agePooling2D)                                                                                    \n",
            "                                                                                                  \n",
            " block2b_se_reshape (Reshape)   (None, 1, 1, 144)    0           ['block2b_se_squeeze[0][0]']     \n",
            "                                                                                                  \n",
            " block2b_se_reduce (Conv2D)     (None, 1, 1, 6)      870         ['block2b_se_reshape[0][0]']     \n",
            "                                                                                                  \n",
            " block2b_se_expand (Conv2D)     (None, 1, 1, 144)    1008        ['block2b_se_reduce[0][0]']      \n",
            "                                                                                                  \n",
            " block2b_se_excite (Multiply)   (None, 12, 12, 144)  0           ['block2b_activation[0][0]',     \n",
            "                                                                  'block2b_se_expand[0][0]']      \n",
            "                                                                                                  \n",
            " block2b_project_conv (Conv2D)  (None, 12, 12, 24)   3456        ['block2b_se_excite[0][0]']      \n",
            "                                                                                                  \n",
            " block2b_project_bn (BatchNorma  (None, 12, 12, 24)  96          ['block2b_project_conv[0][0]']   \n",
            " lization)                                                                                        \n",
            "                                                                                                  \n",
            " block2b_drop (Dropout)         (None, 12, 12, 24)   0           ['block2b_project_bn[0][0]']     \n",
            "                                                                                                  \n",
            " block2b_add (Add)              (None, 12, 12, 24)   0           ['block2b_drop[0][0]',           \n",
            "                                                                  'block2a_project_bn[0][0]']     \n",
            "                                                                                                  \n",
            " block3a_expand_conv (Conv2D)   (None, 12, 12, 144)  3456        ['block2b_add[0][0]']            \n",
            "                                                                                                  \n",
            " block3a_expand_bn (BatchNormal  (None, 12, 12, 144)  576        ['block3a_expand_conv[0][0]']    \n",
            " ization)                                                                                         \n",
            "                                                                                                  \n",
            " block3a_expand_activation (Act  (None, 12, 12, 144)  0          ['block3a_expand_bn[0][0]']      \n",
            " ivation)                                                                                         \n",
            "                                                                                                  \n",
            " block3a_dwconv_pad (ZeroPaddin  (None, 15, 15, 144)  0          ['block3a_expand_activation[0][0]\n",
            " g2D)                                                            ']                               \n",
            "                                                                                                  \n",
            " block3a_dwconv (DepthwiseConv2  (None, 6, 6, 144)   3600        ['block3a_dwconv_pad[0][0]']     \n",
            " D)                                                                                               \n",
            "                                                                                                  \n",
            " block3a_bn (BatchNormalization  (None, 6, 6, 144)   576         ['block3a_dwconv[0][0]']         \n",
            " )                                                                                                \n",
            "                                                                                                  \n",
            " block3a_activation (Activation  (None, 6, 6, 144)   0           ['block3a_bn[0][0]']             \n",
            " )                                                                                                \n",
            "                                                                                                  \n",
            " block3a_se_squeeze (GlobalAver  (None, 144)         0           ['block3a_activation[0][0]']     \n",
            " agePooling2D)                                                                                    \n",
            "                                                                                                  \n",
            " block3a_se_reshape (Reshape)   (None, 1, 1, 144)    0           ['block3a_se_squeeze[0][0]']     \n",
            "                                                                                                  \n",
            " block3a_se_reduce (Conv2D)     (None, 1, 1, 6)      870         ['block3a_se_reshape[0][0]']     \n",
            "                                                                                                  \n",
            " block3a_se_expand (Conv2D)     (None, 1, 1, 144)    1008        ['block3a_se_reduce[0][0]']      \n",
            "                                                                                                  \n",
            " block3a_se_excite (Multiply)   (None, 6, 6, 144)    0           ['block3a_activation[0][0]',     \n",
            "                                                                  'block3a_se_expand[0][0]']      \n",
            "                                                                                                  \n",
            " block3a_project_conv (Conv2D)  (None, 6, 6, 40)     5760        ['block3a_se_excite[0][0]']      \n",
            "                                                                                                  \n",
            " block3a_project_bn (BatchNorma  (None, 6, 6, 40)    160         ['block3a_project_conv[0][0]']   \n",
            " lization)                                                                                        \n",
            "                                                                                                  \n",
            " block3b_expand_conv (Conv2D)   (None, 6, 6, 240)    9600        ['block3a_project_bn[0][0]']     \n",
            "                                                                                                  \n",
            " block3b_expand_bn (BatchNormal  (None, 6, 6, 240)   960         ['block3b_expand_conv[0][0]']    \n",
            " ization)                                                                                         \n",
            "                                                                                                  \n",
            " block3b_expand_activation (Act  (None, 6, 6, 240)   0           ['block3b_expand_bn[0][0]']      \n",
            " ivation)                                                                                         \n",
            "                                                                                                  \n",
            " block3b_dwconv (DepthwiseConv2  (None, 6, 6, 240)   6000        ['block3b_expand_activation[0][0]\n",
            " D)                                                              ']                               \n",
            "                                                                                                  \n",
            " block3b_bn (BatchNormalization  (None, 6, 6, 240)   960         ['block3b_dwconv[0][0]']         \n",
            " )                                                                                                \n",
            "                                                                                                  \n",
            " block3b_activation (Activation  (None, 6, 6, 240)   0           ['block3b_bn[0][0]']             \n",
            " )                                                                                                \n",
            "                                                                                                  \n",
            " block3b_se_squeeze (GlobalAver  (None, 240)         0           ['block3b_activation[0][0]']     \n",
            " agePooling2D)                                                                                    \n",
            "                                                                                                  \n",
            " block3b_se_reshape (Reshape)   (None, 1, 1, 240)    0           ['block3b_se_squeeze[0][0]']     \n",
            "                                                                                                  \n",
            " block3b_se_reduce (Conv2D)     (None, 1, 1, 10)     2410        ['block3b_se_reshape[0][0]']     \n",
            "                                                                                                  \n",
            " block3b_se_expand (Conv2D)     (None, 1, 1, 240)    2640        ['block3b_se_reduce[0][0]']      \n",
            "                                                                                                  \n",
            " block3b_se_excite (Multiply)   (None, 6, 6, 240)    0           ['block3b_activation[0][0]',     \n",
            "                                                                  'block3b_se_expand[0][0]']      \n",
            "                                                                                                  \n",
            " block3b_project_conv (Conv2D)  (None, 6, 6, 40)     9600        ['block3b_se_excite[0][0]']      \n",
            "                                                                                                  \n",
            " block3b_project_bn (BatchNorma  (None, 6, 6, 40)    160         ['block3b_project_conv[0][0]']   \n",
            " lization)                                                                                        \n",
            "                                                                                                  \n",
            " block3b_drop (Dropout)         (None, 6, 6, 40)     0           ['block3b_project_bn[0][0]']     \n",
            "                                                                                                  \n",
            " block3b_add (Add)              (None, 6, 6, 40)     0           ['block3b_drop[0][0]',           \n",
            "                                                                  'block3a_project_bn[0][0]']     \n",
            "                                                                                                  \n",
            " block4a_expand_conv (Conv2D)   (None, 6, 6, 240)    9600        ['block3b_add[0][0]']            \n",
            "                                                                                                  \n",
            " block4a_expand_bn (BatchNormal  (None, 6, 6, 240)   960         ['block4a_expand_conv[0][0]']    \n",
            " ization)                                                                                         \n",
            "                                                                                                  \n",
            " block4a_expand_activation (Act  (None, 6, 6, 240)   0           ['block4a_expand_bn[0][0]']      \n",
            " ivation)                                                                                         \n",
            "                                                                                                  \n",
            " block4a_dwconv_pad (ZeroPaddin  (None, 7, 7, 240)   0           ['block4a_expand_activation[0][0]\n",
            " g2D)                                                            ']                               \n",
            "                                                                                                  \n",
            " block4a_dwconv (DepthwiseConv2  (None, 3, 3, 240)   2160        ['block4a_dwconv_pad[0][0]']     \n",
            " D)                                                                                               \n",
            "                                                                                                  \n",
            " block4a_bn (BatchNormalization  (None, 3, 3, 240)   960         ['block4a_dwconv[0][0]']         \n",
            " )                                                                                                \n",
            "                                                                                                  \n",
            " block4a_activation (Activation  (None, 3, 3, 240)   0           ['block4a_bn[0][0]']             \n",
            " )                                                                                                \n",
            "                                                                                                  \n",
            " block4a_se_squeeze (GlobalAver  (None, 240)         0           ['block4a_activation[0][0]']     \n",
            " agePooling2D)                                                                                    \n",
            "                                                                                                  \n",
            " block4a_se_reshape (Reshape)   (None, 1, 1, 240)    0           ['block4a_se_squeeze[0][0]']     \n",
            "                                                                                                  \n",
            " block4a_se_reduce (Conv2D)     (None, 1, 1, 10)     2410        ['block4a_se_reshape[0][0]']     \n",
            "                                                                                                  \n",
            " block4a_se_expand (Conv2D)     (None, 1, 1, 240)    2640        ['block4a_se_reduce[0][0]']      \n",
            "                                                                                                  \n",
            " block4a_se_excite (Multiply)   (None, 3, 3, 240)    0           ['block4a_activation[0][0]',     \n",
            "                                                                  'block4a_se_expand[0][0]']      \n",
            "                                                                                                  \n",
            " block4a_project_conv (Conv2D)  (None, 3, 3, 80)     19200       ['block4a_se_excite[0][0]']      \n",
            "                                                                                                  \n",
            " block4a_project_bn (BatchNorma  (None, 3, 3, 80)    320         ['block4a_project_conv[0][0]']   \n",
            " lization)                                                                                        \n",
            "                                                                                                  \n",
            " block4b_expand_conv (Conv2D)   (None, 3, 3, 480)    38400       ['block4a_project_bn[0][0]']     \n",
            "                                                                                                  \n",
            " block4b_expand_bn (BatchNormal  (None, 3, 3, 480)   1920        ['block4b_expand_conv[0][0]']    \n",
            " ization)                                                                                         \n",
            "                                                                                                  \n",
            " block4b_expand_activation (Act  (None, 3, 3, 480)   0           ['block4b_expand_bn[0][0]']      \n",
            " ivation)                                                                                         \n",
            "                                                                                                  \n",
            " block4b_dwconv (DepthwiseConv2  (None, 3, 3, 480)   4320        ['block4b_expand_activation[0][0]\n",
            " D)                                                              ']                               \n",
            "                                                                                                  \n",
            " block4b_bn (BatchNormalization  (None, 3, 3, 480)   1920        ['block4b_dwconv[0][0]']         \n",
            " )                                                                                                \n",
            "                                                                                                  \n",
            " block4b_activation (Activation  (None, 3, 3, 480)   0           ['block4b_bn[0][0]']             \n",
            " )                                                                                                \n",
            "                                                                                                  \n",
            " block4b_se_squeeze (GlobalAver  (None, 480)         0           ['block4b_activation[0][0]']     \n",
            " agePooling2D)                                                                                    \n",
            "                                                                                                  \n",
            " block4b_se_reshape (Reshape)   (None, 1, 1, 480)    0           ['block4b_se_squeeze[0][0]']     \n",
            "                                                                                                  \n",
            " block4b_se_reduce (Conv2D)     (None, 1, 1, 20)     9620        ['block4b_se_reshape[0][0]']     \n",
            "                                                                                                  \n",
            " block4b_se_expand (Conv2D)     (None, 1, 1, 480)    10080       ['block4b_se_reduce[0][0]']      \n",
            "                                                                                                  \n",
            " block4b_se_excite (Multiply)   (None, 3, 3, 480)    0           ['block4b_activation[0][0]',     \n",
            "                                                                  'block4b_se_expand[0][0]']      \n",
            "                                                                                                  \n",
            " block4b_project_conv (Conv2D)  (None, 3, 3, 80)     38400       ['block4b_se_excite[0][0]']      \n",
            "                                                                                                  \n",
            " block4b_project_bn (BatchNorma  (None, 3, 3, 80)    320         ['block4b_project_conv[0][0]']   \n",
            " lization)                                                                                        \n",
            "                                                                                                  \n",
            " block4b_drop (Dropout)         (None, 3, 3, 80)     0           ['block4b_project_bn[0][0]']     \n",
            "                                                                                                  \n",
            " block4b_add (Add)              (None, 3, 3, 80)     0           ['block4b_drop[0][0]',           \n",
            "                                                                  'block4a_project_bn[0][0]']     \n",
            "                                                                                                  \n",
            " block4c_expand_conv (Conv2D)   (None, 3, 3, 480)    38400       ['block4b_add[0][0]']            \n",
            "                                                                                                  \n",
            " block4c_expand_bn (BatchNormal  (None, 3, 3, 480)   1920        ['block4c_expand_conv[0][0]']    \n",
            " ization)                                                                                         \n",
            "                                                                                                  \n",
            " block4c_expand_activation (Act  (None, 3, 3, 480)   0           ['block4c_expand_bn[0][0]']      \n",
            " ivation)                                                                                         \n",
            "                                                                                                  \n",
            " block4c_dwconv (DepthwiseConv2  (None, 3, 3, 480)   4320        ['block4c_expand_activation[0][0]\n",
            " D)                                                              ']                               \n",
            "                                                                                                  \n",
            " block4c_bn (BatchNormalization  (None, 3, 3, 480)   1920        ['block4c_dwconv[0][0]']         \n",
            " )                                                                                                \n",
            "                                                                                                  \n",
            " block4c_activation (Activation  (None, 3, 3, 480)   0           ['block4c_bn[0][0]']             \n",
            " )                                                                                                \n",
            "                                                                                                  \n",
            " block4c_se_squeeze (GlobalAver  (None, 480)         0           ['block4c_activation[0][0]']     \n",
            " agePooling2D)                                                                                    \n",
            "                                                                                                  \n",
            " block4c_se_reshape (Reshape)   (None, 1, 1, 480)    0           ['block4c_se_squeeze[0][0]']     \n",
            "                                                                                                  \n",
            " block4c_se_reduce (Conv2D)     (None, 1, 1, 20)     9620        ['block4c_se_reshape[0][0]']     \n",
            "                                                                                                  \n",
            " block4c_se_expand (Conv2D)     (None, 1, 1, 480)    10080       ['block4c_se_reduce[0][0]']      \n",
            "                                                                                                  \n",
            " block4c_se_excite (Multiply)   (None, 3, 3, 480)    0           ['block4c_activation[0][0]',     \n",
            "                                                                  'block4c_se_expand[0][0]']      \n",
            "                                                                                                  \n",
            " block4c_project_conv (Conv2D)  (None, 3, 3, 80)     38400       ['block4c_se_excite[0][0]']      \n",
            "                                                                                                  \n",
            " block4c_project_bn (BatchNorma  (None, 3, 3, 80)    320         ['block4c_project_conv[0][0]']   \n",
            " lization)                                                                                        \n",
            "                                                                                                  \n",
            " block4c_drop (Dropout)         (None, 3, 3, 80)     0           ['block4c_project_bn[0][0]']     \n",
            "                                                                                                  \n",
            " block4c_add (Add)              (None, 3, 3, 80)     0           ['block4c_drop[0][0]',           \n",
            "                                                                  'block4b_add[0][0]']            \n",
            "                                                                                                  \n",
            " block5a_expand_conv (Conv2D)   (None, 3, 3, 480)    38400       ['block4c_add[0][0]']            \n",
            "                                                                                                  \n",
            " block5a_expand_bn (BatchNormal  (None, 3, 3, 480)   1920        ['block5a_expand_conv[0][0]']    \n",
            " ization)                                                                                         \n",
            "                                                                                                  \n",
            " block5a_expand_activation (Act  (None, 3, 3, 480)   0           ['block5a_expand_bn[0][0]']      \n",
            " ivation)                                                                                         \n",
            "                                                                                                  \n",
            " block5a_dwconv (DepthwiseConv2  (None, 3, 3, 480)   12000       ['block5a_expand_activation[0][0]\n",
            " D)                                                              ']                               \n",
            "                                                                                                  \n",
            " block5a_bn (BatchNormalization  (None, 3, 3, 480)   1920        ['block5a_dwconv[0][0]']         \n",
            " )                                                                                                \n",
            "                                                                                                  \n",
            " block5a_activation (Activation  (None, 3, 3, 480)   0           ['block5a_bn[0][0]']             \n",
            " )                                                                                                \n",
            "                                                                                                  \n",
            " block5a_se_squeeze (GlobalAver  (None, 480)         0           ['block5a_activation[0][0]']     \n",
            " agePooling2D)                                                                                    \n",
            "                                                                                                  \n",
            " block5a_se_reshape (Reshape)   (None, 1, 1, 480)    0           ['block5a_se_squeeze[0][0]']     \n",
            "                                                                                                  \n",
            " block5a_se_reduce (Conv2D)     (None, 1, 1, 20)     9620        ['block5a_se_reshape[0][0]']     \n",
            "                                                                                                  \n",
            " block5a_se_expand (Conv2D)     (None, 1, 1, 480)    10080       ['block5a_se_reduce[0][0]']      \n",
            "                                                                                                  \n",
            " block5a_se_excite (Multiply)   (None, 3, 3, 480)    0           ['block5a_activation[0][0]',     \n",
            "                                                                  'block5a_se_expand[0][0]']      \n",
            "                                                                                                  \n",
            " block5a_project_conv (Conv2D)  (None, 3, 3, 112)    53760       ['block5a_se_excite[0][0]']      \n",
            "                                                                                                  \n",
            " block5a_project_bn (BatchNorma  (None, 3, 3, 112)   448         ['block5a_project_conv[0][0]']   \n",
            " lization)                                                                                        \n",
            "                                                                                                  \n",
            " block5b_expand_conv (Conv2D)   (None, 3, 3, 672)    75264       ['block5a_project_bn[0][0]']     \n",
            "                                                                                                  \n",
            " block5b_expand_bn (BatchNormal  (None, 3, 3, 672)   2688        ['block5b_expand_conv[0][0]']    \n",
            " ization)                                                                                         \n",
            "                                                                                                  \n",
            " block5b_expand_activation (Act  (None, 3, 3, 672)   0           ['block5b_expand_bn[0][0]']      \n",
            " ivation)                                                                                         \n",
            "                                                                                                  \n",
            " block5b_dwconv (DepthwiseConv2  (None, 3, 3, 672)   16800       ['block5b_expand_activation[0][0]\n",
            " D)                                                              ']                               \n",
            "                                                                                                  \n",
            " block5b_bn (BatchNormalization  (None, 3, 3, 672)   2688        ['block5b_dwconv[0][0]']         \n",
            " )                                                                                                \n",
            "                                                                                                  \n",
            " block5b_activation (Activation  (None, 3, 3, 672)   0           ['block5b_bn[0][0]']             \n",
            " )                                                                                                \n",
            "                                                                                                  \n",
            " block5b_se_squeeze (GlobalAver  (None, 672)         0           ['block5b_activation[0][0]']     \n",
            " agePooling2D)                                                                                    \n",
            "                                                                                                  \n",
            " block5b_se_reshape (Reshape)   (None, 1, 1, 672)    0           ['block5b_se_squeeze[0][0]']     \n",
            "                                                                                                  \n",
            " block5b_se_reduce (Conv2D)     (None, 1, 1, 28)     18844       ['block5b_se_reshape[0][0]']     \n",
            "                                                                                                  \n",
            " block5b_se_expand (Conv2D)     (None, 1, 1, 672)    19488       ['block5b_se_reduce[0][0]']      \n",
            "                                                                                                  \n",
            " block5b_se_excite (Multiply)   (None, 3, 3, 672)    0           ['block5b_activation[0][0]',     \n",
            "                                                                  'block5b_se_expand[0][0]']      \n",
            "                                                                                                  \n",
            " block5b_project_conv (Conv2D)  (None, 3, 3, 112)    75264       ['block5b_se_excite[0][0]']      \n",
            "                                                                                                  \n",
            " block5b_project_bn (BatchNorma  (None, 3, 3, 112)   448         ['block5b_project_conv[0][0]']   \n",
            " lization)                                                                                        \n",
            "                                                                                                  \n",
            " block5b_drop (Dropout)         (None, 3, 3, 112)    0           ['block5b_project_bn[0][0]']     \n",
            "                                                                                                  \n",
            " block5b_add (Add)              (None, 3, 3, 112)    0           ['block5b_drop[0][0]',           \n",
            "                                                                  'block5a_project_bn[0][0]']     \n",
            "                                                                                                  \n",
            " block5c_expand_conv (Conv2D)   (None, 3, 3, 672)    75264       ['block5b_add[0][0]']            \n",
            "                                                                                                  \n",
            " block5c_expand_bn (BatchNormal  (None, 3, 3, 672)   2688        ['block5c_expand_conv[0][0]']    \n",
            " ization)                                                                                         \n",
            "                                                                                                  \n",
            " block5c_expand_activation (Act  (None, 3, 3, 672)   0           ['block5c_expand_bn[0][0]']      \n",
            " ivation)                                                                                         \n",
            "                                                                                                  \n",
            " block5c_dwconv (DepthwiseConv2  (None, 3, 3, 672)   16800       ['block5c_expand_activation[0][0]\n",
            " D)                                                              ']                               \n",
            "                                                                                                  \n",
            " block5c_bn (BatchNormalization  (None, 3, 3, 672)   2688        ['block5c_dwconv[0][0]']         \n",
            " )                                                                                                \n",
            "                                                                                                  \n",
            " block5c_activation (Activation  (None, 3, 3, 672)   0           ['block5c_bn[0][0]']             \n",
            " )                                                                                                \n",
            "                                                                                                  \n",
            " block5c_se_squeeze (GlobalAver  (None, 672)         0           ['block5c_activation[0][0]']     \n",
            " agePooling2D)                                                                                    \n",
            "                                                                                                  \n",
            " block5c_se_reshape (Reshape)   (None, 1, 1, 672)    0           ['block5c_se_squeeze[0][0]']     \n",
            "                                                                                                  \n",
            " block5c_se_reduce (Conv2D)     (None, 1, 1, 28)     18844       ['block5c_se_reshape[0][0]']     \n",
            "                                                                                                  \n",
            " block5c_se_expand (Conv2D)     (None, 1, 1, 672)    19488       ['block5c_se_reduce[0][0]']      \n",
            "                                                                                                  \n",
            " block5c_se_excite (Multiply)   (None, 3, 3, 672)    0           ['block5c_activation[0][0]',     \n",
            "                                                                  'block5c_se_expand[0][0]']      \n",
            "                                                                                                  \n",
            " block5c_project_conv (Conv2D)  (None, 3, 3, 112)    75264       ['block5c_se_excite[0][0]']      \n",
            "                                                                                                  \n",
            " block5c_project_bn (BatchNorma  (None, 3, 3, 112)   448         ['block5c_project_conv[0][0]']   \n",
            " lization)                                                                                        \n",
            "                                                                                                  \n",
            " block5c_drop (Dropout)         (None, 3, 3, 112)    0           ['block5c_project_bn[0][0]']     \n",
            "                                                                                                  \n",
            " block5c_add (Add)              (None, 3, 3, 112)    0           ['block5c_drop[0][0]',           \n",
            "                                                                  'block5b_add[0][0]']            \n",
            "                                                                                                  \n",
            " block6a_expand_conv (Conv2D)   (None, 3, 3, 672)    75264       ['block5c_add[0][0]']            \n",
            "                                                                                                  \n",
            " block6a_expand_bn (BatchNormal  (None, 3, 3, 672)   2688        ['block6a_expand_conv[0][0]']    \n",
            " ization)                                                                                         \n",
            "                                                                                                  \n",
            " block6a_expand_activation (Act  (None, 3, 3, 672)   0           ['block6a_expand_bn[0][0]']      \n",
            " ivation)                                                                                         \n",
            "                                                                                                  \n",
            " block6a_dwconv_pad (ZeroPaddin  (None, 7, 7, 672)   0           ['block6a_expand_activation[0][0]\n",
            " g2D)                                                            ']                               \n",
            "                                                                                                  \n",
            " block6a_dwconv (DepthwiseConv2  (None, 2, 2, 672)   16800       ['block6a_dwconv_pad[0][0]']     \n",
            " D)                                                                                               \n",
            "                                                                                                  \n",
            " block6a_bn (BatchNormalization  (None, 2, 2, 672)   2688        ['block6a_dwconv[0][0]']         \n",
            " )                                                                                                \n",
            "                                                                                                  \n",
            " block6a_activation (Activation  (None, 2, 2, 672)   0           ['block6a_bn[0][0]']             \n",
            " )                                                                                                \n",
            "                                                                                                  \n",
            " block6a_se_squeeze (GlobalAver  (None, 672)         0           ['block6a_activation[0][0]']     \n",
            " agePooling2D)                                                                                    \n",
            "                                                                                                  \n",
            " block6a_se_reshape (Reshape)   (None, 1, 1, 672)    0           ['block6a_se_squeeze[0][0]']     \n",
            "                                                                                                  \n",
            " block6a_se_reduce (Conv2D)     (None, 1, 1, 28)     18844       ['block6a_se_reshape[0][0]']     \n",
            "                                                                                                  \n",
            " block6a_se_expand (Conv2D)     (None, 1, 1, 672)    19488       ['block6a_se_reduce[0][0]']      \n",
            "                                                                                                  \n",
            " block6a_se_excite (Multiply)   (None, 2, 2, 672)    0           ['block6a_activation[0][0]',     \n",
            "                                                                  'block6a_se_expand[0][0]']      \n",
            "                                                                                                  \n",
            " block6a_project_conv (Conv2D)  (None, 2, 2, 192)    129024      ['block6a_se_excite[0][0]']      \n",
            "                                                                                                  \n",
            " block6a_project_bn (BatchNorma  (None, 2, 2, 192)   768         ['block6a_project_conv[0][0]']   \n",
            " lization)                                                                                        \n",
            "                                                                                                  \n",
            " block6b_expand_conv (Conv2D)   (None, 2, 2, 1152)   221184      ['block6a_project_bn[0][0]']     \n",
            "                                                                                                  \n",
            " block6b_expand_bn (BatchNormal  (None, 2, 2, 1152)  4608        ['block6b_expand_conv[0][0]']    \n",
            " ization)                                                                                         \n",
            "                                                                                                  \n",
            " block6b_expand_activation (Act  (None, 2, 2, 1152)  0           ['block6b_expand_bn[0][0]']      \n",
            " ivation)                                                                                         \n",
            "                                                                                                  \n",
            " block6b_dwconv (DepthwiseConv2  (None, 2, 2, 1152)  28800       ['block6b_expand_activation[0][0]\n",
            " D)                                                              ']                               \n",
            "                                                                                                  \n",
            " block6b_bn (BatchNormalization  (None, 2, 2, 1152)  4608        ['block6b_dwconv[0][0]']         \n",
            " )                                                                                                \n",
            "                                                                                                  \n",
            " block6b_activation (Activation  (None, 2, 2, 1152)  0           ['block6b_bn[0][0]']             \n",
            " )                                                                                                \n",
            "                                                                                                  \n",
            " block6b_se_squeeze (GlobalAver  (None, 1152)        0           ['block6b_activation[0][0]']     \n",
            " agePooling2D)                                                                                    \n",
            "                                                                                                  \n",
            " block6b_se_reshape (Reshape)   (None, 1, 1, 1152)   0           ['block6b_se_squeeze[0][0]']     \n",
            "                                                                                                  \n",
            " block6b_se_reduce (Conv2D)     (None, 1, 1, 48)     55344       ['block6b_se_reshape[0][0]']     \n",
            "                                                                                                  \n",
            " block6b_se_expand (Conv2D)     (None, 1, 1, 1152)   56448       ['block6b_se_reduce[0][0]']      \n",
            "                                                                                                  \n",
            " block6b_se_excite (Multiply)   (None, 2, 2, 1152)   0           ['block6b_activation[0][0]',     \n",
            "                                                                  'block6b_se_expand[0][0]']      \n",
            "                                                                                                  \n",
            " block6b_project_conv (Conv2D)  (None, 2, 2, 192)    221184      ['block6b_se_excite[0][0]']      \n",
            "                                                                                                  \n",
            " block6b_project_bn (BatchNorma  (None, 2, 2, 192)   768         ['block6b_project_conv[0][0]']   \n",
            " lization)                                                                                        \n",
            "                                                                                                  \n",
            " block6b_drop (Dropout)         (None, 2, 2, 192)    0           ['block6b_project_bn[0][0]']     \n",
            "                                                                                                  \n",
            " block6b_add (Add)              (None, 2, 2, 192)    0           ['block6b_drop[0][0]',           \n",
            "                                                                  'block6a_project_bn[0][0]']     \n",
            "                                                                                                  \n",
            " block6c_expand_conv (Conv2D)   (None, 2, 2, 1152)   221184      ['block6b_add[0][0]']            \n",
            "                                                                                                  \n",
            " block6c_expand_bn (BatchNormal  (None, 2, 2, 1152)  4608        ['block6c_expand_conv[0][0]']    \n",
            " ization)                                                                                         \n",
            "                                                                                                  \n",
            " block6c_expand_activation (Act  (None, 2, 2, 1152)  0           ['block6c_expand_bn[0][0]']      \n",
            " ivation)                                                                                         \n",
            "                                                                                                  \n",
            " block6c_dwconv (DepthwiseConv2  (None, 2, 2, 1152)  28800       ['block6c_expand_activation[0][0]\n",
            " D)                                                              ']                               \n",
            "                                                                                                  \n",
            " block6c_bn (BatchNormalization  (None, 2, 2, 1152)  4608        ['block6c_dwconv[0][0]']         \n",
            " )                                                                                                \n",
            "                                                                                                  \n",
            " block6c_activation (Activation  (None, 2, 2, 1152)  0           ['block6c_bn[0][0]']             \n",
            " )                                                                                                \n",
            "                                                                                                  \n",
            " block6c_se_squeeze (GlobalAver  (None, 1152)        0           ['block6c_activation[0][0]']     \n",
            " agePooling2D)                                                                                    \n",
            "                                                                                                  \n",
            " block6c_se_reshape (Reshape)   (None, 1, 1, 1152)   0           ['block6c_se_squeeze[0][0]']     \n",
            "                                                                                                  \n",
            " block6c_se_reduce (Conv2D)     (None, 1, 1, 48)     55344       ['block6c_se_reshape[0][0]']     \n",
            "                                                                                                  \n",
            " block6c_se_expand (Conv2D)     (None, 1, 1, 1152)   56448       ['block6c_se_reduce[0][0]']      \n",
            "                                                                                                  \n",
            " block6c_se_excite (Multiply)   (None, 2, 2, 1152)   0           ['block6c_activation[0][0]',     \n",
            "                                                                  'block6c_se_expand[0][0]']      \n",
            "                                                                                                  \n",
            " block6c_project_conv (Conv2D)  (None, 2, 2, 192)    221184      ['block6c_se_excite[0][0]']      \n",
            "                                                                                                  \n",
            " block6c_project_bn (BatchNorma  (None, 2, 2, 192)   768         ['block6c_project_conv[0][0]']   \n",
            " lization)                                                                                        \n",
            "                                                                                                  \n",
            " block6c_drop (Dropout)         (None, 2, 2, 192)    0           ['block6c_project_bn[0][0]']     \n",
            "                                                                                                  \n",
            " block6c_add (Add)              (None, 2, 2, 192)    0           ['block6c_drop[0][0]',           \n",
            "                                                                  'block6b_add[0][0]']            \n",
            "                                                                                                  \n",
            " block6d_expand_conv (Conv2D)   (None, 2, 2, 1152)   221184      ['block6c_add[0][0]']            \n",
            "                                                                                                  \n",
            " block6d_expand_bn (BatchNormal  (None, 2, 2, 1152)  4608        ['block6d_expand_conv[0][0]']    \n",
            " ization)                                                                                         \n",
            "                                                                                                  \n",
            " block6d_expand_activation (Act  (None, 2, 2, 1152)  0           ['block6d_expand_bn[0][0]']      \n",
            " ivation)                                                                                         \n",
            "                                                                                                  \n",
            " block6d_dwconv (DepthwiseConv2  (None, 2, 2, 1152)  28800       ['block6d_expand_activation[0][0]\n",
            " D)                                                              ']                               \n",
            "                                                                                                  \n",
            " block6d_bn (BatchNormalization  (None, 2, 2, 1152)  4608        ['block6d_dwconv[0][0]']         \n",
            " )                                                                                                \n",
            "                                                                                                  \n",
            " block6d_activation (Activation  (None, 2, 2, 1152)  0           ['block6d_bn[0][0]']             \n",
            " )                                                                                                \n",
            "                                                                                                  \n",
            " block6d_se_squeeze (GlobalAver  (None, 1152)        0           ['block6d_activation[0][0]']     \n",
            " agePooling2D)                                                                                    \n",
            "                                                                                                  \n",
            " block6d_se_reshape (Reshape)   (None, 1, 1, 1152)   0           ['block6d_se_squeeze[0][0]']     \n",
            "                                                                                                  \n",
            " block6d_se_reduce (Conv2D)     (None, 1, 1, 48)     55344       ['block6d_se_reshape[0][0]']     \n",
            "                                                                                                  \n",
            " block6d_se_expand (Conv2D)     (None, 1, 1, 1152)   56448       ['block6d_se_reduce[0][0]']      \n",
            "                                                                                                  \n",
            " block6d_se_excite (Multiply)   (None, 2, 2, 1152)   0           ['block6d_activation[0][0]',     \n",
            "                                                                  'block6d_se_expand[0][0]']      \n",
            "                                                                                                  \n",
            " block6d_project_conv (Conv2D)  (None, 2, 2, 192)    221184      ['block6d_se_excite[0][0]']      \n",
            "                                                                                                  \n",
            " block6d_project_bn (BatchNorma  (None, 2, 2, 192)   768         ['block6d_project_conv[0][0]']   \n",
            " lization)                                                                                        \n",
            "                                                                                                  \n",
            " block6d_drop (Dropout)         (None, 2, 2, 192)    0           ['block6d_project_bn[0][0]']     \n",
            "                                                                                                  \n",
            " block6d_add (Add)              (None, 2, 2, 192)    0           ['block6d_drop[0][0]',           \n",
            "                                                                  'block6c_add[0][0]']            \n",
            "                                                                                                  \n",
            " block7a_expand_conv (Conv2D)   (None, 2, 2, 1152)   221184      ['block6d_add[0][0]']            \n",
            "                                                                                                  \n",
            " block7a_expand_bn (BatchNormal  (None, 2, 2, 1152)  4608        ['block7a_expand_conv[0][0]']    \n",
            " ization)                                                                                         \n",
            "                                                                                                  \n",
            " block7a_expand_activation (Act  (None, 2, 2, 1152)  0           ['block7a_expand_bn[0][0]']      \n",
            " ivation)                                                                                         \n",
            "                                                                                                  \n",
            " block7a_dwconv (DepthwiseConv2  (None, 2, 2, 1152)  10368       ['block7a_expand_activation[0][0]\n",
            " D)                                                              ']                               \n",
            "                                                                                                  \n",
            " block7a_bn (BatchNormalization  (None, 2, 2, 1152)  4608        ['block7a_dwconv[0][0]']         \n",
            " )                                                                                                \n",
            "                                                                                                  \n",
            " block7a_activation (Activation  (None, 2, 2, 1152)  0           ['block7a_bn[0][0]']             \n",
            " )                                                                                                \n",
            "                                                                                                  \n",
            " block7a_se_squeeze (GlobalAver  (None, 1152)        0           ['block7a_activation[0][0]']     \n",
            " agePooling2D)                                                                                    \n",
            "                                                                                                  \n",
            " block7a_se_reshape (Reshape)   (None, 1, 1, 1152)   0           ['block7a_se_squeeze[0][0]']     \n",
            "                                                                                                  \n",
            " block7a_se_reduce (Conv2D)     (None, 1, 1, 48)     55344       ['block7a_se_reshape[0][0]']     \n",
            "                                                                                                  \n",
            " block7a_se_expand (Conv2D)     (None, 1, 1, 1152)   56448       ['block7a_se_reduce[0][0]']      \n",
            "                                                                                                  \n",
            " block7a_se_excite (Multiply)   (None, 2, 2, 1152)   0           ['block7a_activation[0][0]',     \n",
            "                                                                  'block7a_se_expand[0][0]']      \n",
            "                                                                                                  \n",
            " block7a_project_conv (Conv2D)  (None, 2, 2, 320)    368640      ['block7a_se_excite[0][0]']      \n",
            "                                                                                                  \n",
            " block7a_project_bn (BatchNorma  (None, 2, 2, 320)   1280        ['block7a_project_conv[0][0]']   \n",
            " lization)                                                                                        \n",
            "                                                                                                  \n",
            " top_conv (Conv2D)              (None, 2, 2, 1280)   409600      ['block7a_project_bn[0][0]']     \n",
            "                                                                                                  \n",
            " top_bn (BatchNormalization)    (None, 2, 2, 1280)   5120        ['top_conv[0][0]']               \n",
            "                                                                                                  \n",
            " top_activation (Activation)    (None, 2, 2, 1280)   0           ['top_bn[0][0]']                 \n",
            "                                                                                                  \n",
            " global_average_pooling2d (Glob  (None, 1280)        0           ['top_activation[0][0]']         \n",
            " alAveragePooling2D)                                                                              \n",
            "                                                                                                  \n",
            " top_dropout (Dropout)          (None, 1280)         0           ['global_average_pooling2d[0][0]'\n",
            "                                                                 ]                                \n",
            "                                                                                                  \n",
            " dense (Dense)                  (None, 1024)         1311744     ['top_dropout[0][0]']            \n",
            "                                                                                                  \n",
            " dense_1 (Dense)                (None, 6)            6150        ['dense[0][0]']                  \n",
            "                                                                                                  \n",
            "==================================================================================================\n",
            "Total params: 5,367,465\n",
            "Trainable params: 5,325,442\n",
            "Non-trainable params: 42,023\n",
            "__________________________________________________________________________________________________\n"
          ]
        }
      ],
      "source": [
        "model.summary()"
      ]
    },
    {
      "cell_type": "code",
      "execution_count": null,
      "metadata": {
        "id": "6Dl5v17azXdH"
      },
      "outputs": [],
      "source": [
        "tf.keras.utils.plot_model(\n",
        "    model, to_file='/content/sample_data/model.png', show_shapes=False, show_dtype=False,\n",
        "    show_layer_names=True, rankdir='TB', expand_nested=False, dpi=96,\n",
        "    layer_range=None, show_layer_activations=False\n",
        ")\n",
        "# model.save('/content/sample_data/efficientmodel.hdf5')"
      ]
    },
    {
      "cell_type": "code",
      "execution_count": null,
      "metadata": {
        "colab": {
          "base_uri": "https://localhost:8080/"
        },
        "id": "twWq-kbtzaW3",
        "outputId": "996105fc-fd06-4b0c-928c-1218aca2ad4d"
      },
      "outputs": [
        {
          "output_type": "stream",
          "name": "stderr",
          "text": [
            "WARNING:absl:`lr` is deprecated in Keras optimizer, please use `learning_rate` or use the legacy optimizer, e.g.,tf.keras.optimizers.legacy.Adam.\n"
          ]
        }
      ],
      "source": [
        "from tensorflow.keras.optimizers import SGD\n",
        "lr = 1e-4\n",
        "sgd = SGD(learning_rate = lr, momentum =.9, nesterov=False)\n",
        "batch_size = 64\n",
        "EPOCHS = 100\n",
        "adam = Adam(lr = 0.001, beta_1=0.9, beta_2=0.999, epsilon=1e-7)"
      ]
    },
    {
      "cell_type": "code",
      "execution_count": null,
      "metadata": {
        "id": "tLq-8P6E3PzW"
      },
      "outputs": [],
      "source": [
        " model.compile(optimizer=adam,loss='categorical_crossentropy', metrics=['accuracy'])"
      ]
    },
    {
      "cell_type": "code",
      "execution_count": null,
      "metadata": {
        "colab": {
          "base_uri": "https://localhost:8080/"
        },
        "id": "cKTXLE6WzgKY",
        "outputId": "a0c20785-73b2-43a5-f2eb-75934db95e01"
      },
      "outputs": [
        {
          "output_type": "stream",
          "name": "stdout",
          "text": [
            "Epoch 1/100\n",
            "9/9 [==============================] - 55s 443ms/step - loss: 1.6356 - accuracy: 0.3802 - val_loss: 1.4254 - val_accuracy: 0.4564 - lr: 0.0010\n",
            "Epoch 2/100\n",
            "9/9 [==============================] - 1s 82ms/step - loss: 1.2631 - accuracy: 0.5417 - val_loss: 1.4615 - val_accuracy: 0.4832 - lr: 0.0010\n",
            "Epoch 3/100\n",
            "9/9 [==============================] - 1s 82ms/step - loss: 0.9230 - accuracy: 0.6629 - val_loss: 1.3396 - val_accuracy: 0.4698 - lr: 0.0010\n",
            "Epoch 4/100\n",
            "9/9 [==============================] - 1s 80ms/step - loss: 0.8716 - accuracy: 0.6761 - val_loss: 1.5918 - val_accuracy: 0.4161 - lr: 0.0010\n",
            "Epoch 5/100\n",
            "9/9 [==============================] - 1s 84ms/step - loss: 0.8145 - accuracy: 0.7235 - val_loss: 1.3202 - val_accuracy: 0.4832 - lr: 0.0010\n",
            "Epoch 6/100\n",
            "9/9 [==============================] - 1s 79ms/step - loss: 0.7130 - accuracy: 0.7538 - val_loss: 1.0757 - val_accuracy: 0.5772 - lr: 0.0010\n",
            "Epoch 7/100\n",
            "9/9 [==============================] - 1s 85ms/step - loss: 0.6346 - accuracy: 0.7708 - val_loss: 0.8483 - val_accuracy: 0.6644 - lr: 0.0010\n",
            "Epoch 8/100\n",
            "9/9 [==============================] - 1s 84ms/step - loss: 0.5164 - accuracy: 0.8239 - val_loss: 1.0085 - val_accuracy: 0.6309 - lr: 0.0010\n",
            "Epoch 9/100\n",
            "9/9 [==============================] - 1s 82ms/step - loss: 0.4764 - accuracy: 0.8220 - val_loss: 1.0876 - val_accuracy: 0.6913 - lr: 0.0010\n",
            "Epoch 10/100\n",
            "9/9 [==============================] - 1s 82ms/step - loss: 0.5160 - accuracy: 0.8352 - val_loss: 1.6346 - val_accuracy: 0.5302 - lr: 0.0010\n",
            "Epoch 11/100\n",
            "9/9 [==============================] - 1s 88ms/step - loss: 0.4775 - accuracy: 0.8390 - val_loss: 0.9866 - val_accuracy: 0.6376 - lr: 0.0010\n",
            "Epoch 12/100\n",
            "9/9 [==============================] - 1s 100ms/step - loss: 0.4343 - accuracy: 0.8542 - val_loss: 0.6772 - val_accuracy: 0.7651 - lr: 0.0010\n",
            "Epoch 13/100\n",
            "9/9 [==============================] - 1s 100ms/step - loss: 0.3841 - accuracy: 0.8807 - val_loss: 0.5179 - val_accuracy: 0.8054 - lr: 0.0010\n",
            "Epoch 14/100\n",
            "9/9 [==============================] - 1s 90ms/step - loss: 0.4636 - accuracy: 0.8295 - val_loss: 0.5340 - val_accuracy: 0.8054 - lr: 0.0010\n",
            "Epoch 15/100\n",
            "9/9 [==============================] - 1s 85ms/step - loss: 0.3511 - accuracy: 0.8769 - val_loss: 0.6383 - val_accuracy: 0.8255 - lr: 0.0010\n",
            "Epoch 16/100\n",
            "9/9 [==============================] - 1s 86ms/step - loss: 0.3283 - accuracy: 0.8996 - val_loss: 0.4119 - val_accuracy: 0.8725 - lr: 0.0010\n",
            "Epoch 17/100\n",
            "9/9 [==============================] - 1s 82ms/step - loss: 0.2972 - accuracy: 0.9034 - val_loss: 0.3896 - val_accuracy: 0.8926 - lr: 0.0010\n",
            "Epoch 18/100\n",
            "9/9 [==============================] - 1s 83ms/step - loss: 0.3398 - accuracy: 0.8883 - val_loss: 0.2849 - val_accuracy: 0.8859 - lr: 0.0010\n",
            "Epoch 19/100\n",
            "9/9 [==============================] - 1s 84ms/step - loss: 0.2880 - accuracy: 0.9034 - val_loss: 0.2284 - val_accuracy: 0.8993 - lr: 0.0010\n",
            "Epoch 20/100\n",
            "9/9 [==============================] - 1s 84ms/step - loss: 0.2978 - accuracy: 0.8769 - val_loss: 0.1937 - val_accuracy: 0.9396 - lr: 0.0010\n",
            "Epoch 21/100\n",
            "9/9 [==============================] - 1s 85ms/step - loss: 0.2979 - accuracy: 0.9053 - val_loss: 0.2241 - val_accuracy: 0.9128 - lr: 0.0010\n",
            "Epoch 22/100\n",
            "9/9 [==============================] - 1s 83ms/step - loss: 0.3370 - accuracy: 0.8807 - val_loss: 0.2858 - val_accuracy: 0.8993 - lr: 0.0010\n",
            "Epoch 23/100\n",
            "9/9 [==============================] - 1s 82ms/step - loss: 0.2726 - accuracy: 0.9015 - val_loss: 0.2449 - val_accuracy: 0.8926 - lr: 0.0010\n",
            "Epoch 24/100\n",
            "9/9 [==============================] - 1s 83ms/step - loss: 0.2848 - accuracy: 0.9034 - val_loss: 0.1871 - val_accuracy: 0.9128 - lr: 0.0010\n",
            "Epoch 25/100\n",
            "9/9 [==============================] - 1s 82ms/step - loss: 0.2798 - accuracy: 0.9186 - val_loss: 0.1646 - val_accuracy: 0.9262 - lr: 0.0010\n",
            "Epoch 26/100\n",
            "9/9 [==============================] - 1s 85ms/step - loss: 0.2076 - accuracy: 0.9280 - val_loss: 0.1134 - val_accuracy: 0.9664 - lr: 0.0010\n",
            "Epoch 27/100\n",
            "9/9 [==============================] - 1s 101ms/step - loss: 0.2186 - accuracy: 0.9356 - val_loss: 0.1294 - val_accuracy: 0.9463 - lr: 0.0010\n",
            "Epoch 28/100\n",
            "9/9 [==============================] - 1s 92ms/step - loss: 0.1970 - accuracy: 0.9413 - val_loss: 0.0633 - val_accuracy: 0.9664 - lr: 0.0010\n",
            "Epoch 29/100\n",
            "9/9 [==============================] - 1s 90ms/step - loss: 0.1865 - accuracy: 0.9394 - val_loss: 0.1204 - val_accuracy: 0.9530 - lr: 0.0010\n",
            "Epoch 30/100\n",
            "9/9 [==============================] - 1s 80ms/step - loss: 0.2097 - accuracy: 0.9356 - val_loss: 0.1178 - val_accuracy: 0.9396 - lr: 0.0010\n",
            "Epoch 31/100\n",
            "9/9 [==============================] - 1s 84ms/step - loss: 0.1852 - accuracy: 0.9451 - val_loss: 0.0961 - val_accuracy: 0.9597 - lr: 0.0010\n",
            "Epoch 32/100\n",
            "9/9 [==============================] - 1s 82ms/step - loss: 0.1651 - accuracy: 0.9489 - val_loss: 0.1453 - val_accuracy: 0.9530 - lr: 0.0010\n",
            "Epoch 33/100\n",
            "9/9 [==============================] - 1s 79ms/step - loss: 0.1438 - accuracy: 0.9394 - val_loss: 0.0843 - val_accuracy: 0.9597 - lr: 0.0010\n",
            "Epoch 34/100\n",
            "9/9 [==============================] - 1s 83ms/step - loss: 0.1115 - accuracy: 0.9602 - val_loss: 0.0668 - val_accuracy: 0.9664 - lr: 0.0010\n",
            "Epoch 35/100\n",
            "9/9 [==============================] - 1s 84ms/step - loss: 0.1500 - accuracy: 0.9527 - val_loss: 0.0820 - val_accuracy: 0.9664 - lr: 0.0010\n",
            "Epoch 36/100\n",
            "9/9 [==============================] - 1s 83ms/step - loss: 0.1485 - accuracy: 0.9470 - val_loss: 0.1358 - val_accuracy: 0.9329 - lr: 0.0010\n",
            "Epoch 37/100\n",
            "9/9 [==============================] - 1s 94ms/step - loss: 0.1347 - accuracy: 0.9489 - val_loss: 0.1083 - val_accuracy: 0.9597 - lr: 0.0010\n",
            "Epoch 38/100\n",
            "9/9 [==============================] - 1s 81ms/step - loss: 0.1237 - accuracy: 0.9640 - val_loss: 0.1603 - val_accuracy: 0.9463 - lr: 0.0010\n",
            "Epoch 39/100\n",
            "9/9 [==============================] - 1s 88ms/step - loss: 0.1897 - accuracy: 0.9394 - val_loss: 0.1298 - val_accuracy: 0.9530 - lr: 1.0000e-04\n",
            "Epoch 40/100\n",
            "9/9 [==============================] - 1s 96ms/step - loss: 0.1540 - accuracy: 0.9583 - val_loss: 0.0898 - val_accuracy: 0.9664 - lr: 1.0000e-04\n",
            "Epoch 41/100\n",
            "9/9 [==============================] - 1s 111ms/step - loss: 0.1132 - accuracy: 0.9640 - val_loss: 0.0717 - val_accuracy: 0.9664 - lr: 1.0000e-04\n",
            "Epoch 42/100\n",
            "9/9 [==============================] - 1s 96ms/step - loss: 0.1441 - accuracy: 0.9508 - val_loss: 0.0606 - val_accuracy: 0.9799 - lr: 1.0000e-04\n",
            "Epoch 43/100\n",
            "9/9 [==============================] - 1s 93ms/step - loss: 0.1200 - accuracy: 0.9545 - val_loss: 0.0571 - val_accuracy: 0.9732 - lr: 1.0000e-04\n",
            "Epoch 44/100\n",
            "9/9 [==============================] - 1s 85ms/step - loss: 0.1166 - accuracy: 0.9602 - val_loss: 0.0574 - val_accuracy: 0.9732 - lr: 1.0000e-04\n",
            "Epoch 45/100\n",
            "9/9 [==============================] - 1s 81ms/step - loss: 0.0780 - accuracy: 0.9754 - val_loss: 0.0581 - val_accuracy: 0.9664 - lr: 1.0000e-04\n",
            "Epoch 46/100\n",
            "9/9 [==============================] - 1s 79ms/step - loss: 0.1507 - accuracy: 0.9621 - val_loss: 0.0517 - val_accuracy: 0.9732 - lr: 1.0000e-04\n",
            "Epoch 47/100\n",
            "9/9 [==============================] - 1s 82ms/step - loss: 0.0818 - accuracy: 0.9735 - val_loss: 0.0505 - val_accuracy: 0.9799 - lr: 1.0000e-04\n",
            "Epoch 48/100\n",
            "9/9 [==============================] - 1s 82ms/step - loss: 0.1140 - accuracy: 0.9602 - val_loss: 0.0542 - val_accuracy: 0.9732 - lr: 1.0000e-04\n",
            "Epoch 49/100\n",
            "9/9 [==============================] - 1s 83ms/step - loss: 0.1064 - accuracy: 0.9697 - val_loss: 0.0585 - val_accuracy: 0.9732 - lr: 1.0000e-04\n",
            "Epoch 50/100\n",
            "9/9 [==============================] - 1s 80ms/step - loss: 0.0858 - accuracy: 0.9697 - val_loss: 0.0590 - val_accuracy: 0.9732 - lr: 1.0000e-04\n",
            "Epoch 51/100\n",
            "9/9 [==============================] - 1s 79ms/step - loss: 0.0951 - accuracy: 0.9697 - val_loss: 0.0577 - val_accuracy: 0.9664 - lr: 1.0000e-04\n",
            "Epoch 52/100\n",
            "9/9 [==============================] - 1s 81ms/step - loss: 0.0930 - accuracy: 0.9640 - val_loss: 0.0524 - val_accuracy: 0.9664 - lr: 1.0000e-04\n",
            "Epoch 53/100\n",
            "9/9 [==============================] - 1s 85ms/step - loss: 0.0697 - accuracy: 0.9754 - val_loss: 0.0554 - val_accuracy: 0.9732 - lr: 1.0000e-04\n",
            "Epoch 54/100\n",
            "9/9 [==============================] - 1s 84ms/step - loss: 0.0618 - accuracy: 0.9830 - val_loss: 0.0530 - val_accuracy: 0.9732 - lr: 1.0000e-04\n",
            "Epoch 55/100\n",
            "9/9 [==============================] - 1s 86ms/step - loss: 0.0638 - accuracy: 0.9754 - val_loss: 0.0490 - val_accuracy: 0.9799 - lr: 1.0000e-04\n",
            "Epoch 56/100\n",
            "9/9 [==============================] - 1s 97ms/step - loss: 0.0757 - accuracy: 0.9697 - val_loss: 0.0484 - val_accuracy: 0.9799 - lr: 1.0000e-04\n",
            "Epoch 57/100\n",
            "9/9 [==============================] - 1s 97ms/step - loss: 0.1127 - accuracy: 0.9659 - val_loss: 0.0519 - val_accuracy: 0.9799 - lr: 1.0000e-04\n",
            "Epoch 58/100\n",
            "9/9 [==============================] - 1s 89ms/step - loss: 0.0820 - accuracy: 0.9811 - val_loss: 0.0552 - val_accuracy: 0.9866 - lr: 1.0000e-04\n",
            "Epoch 59/100\n",
            "9/9 [==============================] - 1s 81ms/step - loss: 0.1223 - accuracy: 0.9678 - val_loss: 0.0554 - val_accuracy: 0.9732 - lr: 1.0000e-04\n",
            "Epoch 60/100\n",
            "9/9 [==============================] - 1s 86ms/step - loss: 0.1124 - accuracy: 0.9678 - val_loss: 0.0558 - val_accuracy: 0.9732 - lr: 1.0000e-04\n",
            "Epoch 61/100\n",
            "9/9 [==============================] - 1s 84ms/step - loss: 0.0827 - accuracy: 0.9722 - val_loss: 0.0564 - val_accuracy: 0.9799 - lr: 1.0000e-04\n",
            "Epoch 62/100\n",
            "9/9 [==============================] - 1s 80ms/step - loss: 0.0563 - accuracy: 0.9811 - val_loss: 0.0545 - val_accuracy: 0.9799 - lr: 1.0000e-04\n",
            "Epoch 63/100\n",
            "9/9 [==============================] - 1s 83ms/step - loss: 0.0736 - accuracy: 0.9716 - val_loss: 0.0555 - val_accuracy: 0.9732 - lr: 1.0000e-04\n",
            "Epoch 64/100\n",
            "9/9 [==============================] - 1s 82ms/step - loss: 0.0470 - accuracy: 0.9848 - val_loss: 0.0531 - val_accuracy: 0.9799 - lr: 1.0000e-04\n",
            "Epoch 65/100\n",
            "9/9 [==============================] - 1s 78ms/step - loss: 0.0791 - accuracy: 0.9754 - val_loss: 0.0499 - val_accuracy: 0.9799 - lr: 1.0000e-04\n",
            "Epoch 66/100\n",
            "9/9 [==============================] - 1s 79ms/step - loss: 0.0432 - accuracy: 0.9830 - val_loss: 0.0499 - val_accuracy: 0.9799 - lr: 1.0000e-04\n",
            "Epoch 67/100\n",
            "9/9 [==============================] - 1s 80ms/step - loss: 0.0663 - accuracy: 0.9811 - val_loss: 0.0507 - val_accuracy: 0.9799 - lr: 1.0000e-05\n",
            "Epoch 68/100\n",
            "9/9 [==============================] - 1s 82ms/step - loss: 0.0845 - accuracy: 0.9678 - val_loss: 0.0506 - val_accuracy: 0.9799 - lr: 1.0000e-05\n",
            "Epoch 69/100\n",
            "9/9 [==============================] - 1s 83ms/step - loss: 0.0465 - accuracy: 0.9861 - val_loss: 0.0498 - val_accuracy: 0.9799 - lr: 1.0000e-05\n",
            "Epoch 70/100\n",
            "9/9 [==============================] - 1s 82ms/step - loss: 0.0578 - accuracy: 0.9830 - val_loss: 0.0491 - val_accuracy: 0.9799 - lr: 1.0000e-05\n",
            "Epoch 71/100\n",
            "9/9 [==============================] - 1s 92ms/step - loss: 0.0703 - accuracy: 0.9811 - val_loss: 0.0489 - val_accuracy: 0.9799 - lr: 1.0000e-05\n",
            "Epoch 72/100\n",
            "9/9 [==============================] - 1s 100ms/step - loss: 0.0742 - accuracy: 0.9754 - val_loss: 0.0485 - val_accuracy: 0.9799 - lr: 1.0000e-05\n",
            "Epoch 73/100\n",
            "9/9 [==============================] - 1s 91ms/step - loss: 0.0767 - accuracy: 0.9735 - val_loss: 0.0482 - val_accuracy: 0.9799 - lr: 1.0000e-05\n",
            "Epoch 74/100\n",
            "9/9 [==============================] - 1s 83ms/step - loss: 0.0640 - accuracy: 0.9754 - val_loss: 0.0486 - val_accuracy: 0.9799 - lr: 1.0000e-05\n",
            "Epoch 75/100\n",
            "9/9 [==============================] - 1s 81ms/step - loss: 0.0570 - accuracy: 0.9811 - val_loss: 0.0485 - val_accuracy: 0.9799 - lr: 1.0000e-05\n",
            "Epoch 76/100\n",
            "9/9 [==============================] - 1s 82ms/step - loss: 0.0470 - accuracy: 0.9867 - val_loss: 0.0482 - val_accuracy: 0.9799 - lr: 1.0000e-05\n",
            "Epoch 77/100\n",
            "9/9 [==============================] - 1s 88ms/step - loss: 0.0640 - accuracy: 0.9754 - val_loss: 0.0464 - val_accuracy: 0.9799 - lr: 1.0000e-05\n",
            "Epoch 78/100\n",
            "9/9 [==============================] - 1s 84ms/step - loss: 0.0553 - accuracy: 0.9792 - val_loss: 0.0462 - val_accuracy: 0.9799 - lr: 1.0000e-05\n",
            "Epoch 79/100\n",
            "9/9 [==============================] - 1s 84ms/step - loss: 0.0942 - accuracy: 0.9697 - val_loss: 0.0459 - val_accuracy: 0.9799 - lr: 1.0000e-05\n",
            "Epoch 80/100\n",
            "9/9 [==============================] - 1s 80ms/step - loss: 0.0733 - accuracy: 0.9773 - val_loss: 0.0460 - val_accuracy: 0.9799 - lr: 1.0000e-05\n",
            "Epoch 81/100\n",
            "9/9 [==============================] - 1s 83ms/step - loss: 0.0543 - accuracy: 0.9773 - val_loss: 0.0468 - val_accuracy: 0.9732 - lr: 1.0000e-05\n",
            "Epoch 82/100\n",
            "9/9 [==============================] - 1s 85ms/step - loss: 0.0727 - accuracy: 0.9811 - val_loss: 0.0473 - val_accuracy: 0.9732 - lr: 1.0000e-05\n",
            "Epoch 83/100\n",
            "9/9 [==============================] - 1s 85ms/step - loss: 0.0523 - accuracy: 0.9811 - val_loss: 0.0476 - val_accuracy: 0.9732 - lr: 1.0000e-05\n",
            "Epoch 84/100\n",
            "9/9 [==============================] - 1s 82ms/step - loss: 0.0794 - accuracy: 0.9792 - val_loss: 0.0467 - val_accuracy: 0.9732 - lr: 1.0000e-05\n",
            "Epoch 85/100\n",
            "9/9 [==============================] - 1s 94ms/step - loss: 0.0586 - accuracy: 0.9792 - val_loss: 0.0468 - val_accuracy: 0.9732 - lr: 1.0000e-05\n",
            "Epoch 86/100\n",
            "9/9 [==============================] - 1s 97ms/step - loss: 0.0856 - accuracy: 0.9735 - val_loss: 0.0470 - val_accuracy: 0.9732 - lr: 1.0000e-05\n",
            "Epoch 87/100\n",
            "9/9 [==============================] - 1s 104ms/step - loss: 0.0606 - accuracy: 0.9811 - val_loss: 0.0468 - val_accuracy: 0.9732 - lr: 1.0000e-05\n",
            "Epoch 88/100\n",
            "9/9 [==============================] - 1s 86ms/step - loss: 0.0628 - accuracy: 0.9735 - val_loss: 0.0457 - val_accuracy: 0.9732 - lr: 1.0000e-05\n",
            "Epoch 89/100\n",
            "9/9 [==============================] - 1s 87ms/step - loss: 0.0704 - accuracy: 0.9735 - val_loss: 0.0452 - val_accuracy: 0.9732 - lr: 1.0000e-05\n",
            "Epoch 90/100\n",
            "9/9 [==============================] - 1s 94ms/step - loss: 0.0499 - accuracy: 0.9830 - val_loss: 0.0453 - val_accuracy: 0.9732 - lr: 1.0000e-05\n",
            "Epoch 91/100\n",
            "9/9 [==============================] - 1s 99ms/step - loss: 0.0720 - accuracy: 0.9697 - val_loss: 0.0459 - val_accuracy: 0.9732 - lr: 1.0000e-05\n",
            "Epoch 92/100\n",
            "9/9 [==============================] - 1s 97ms/step - loss: 0.0691 - accuracy: 0.9792 - val_loss: 0.0453 - val_accuracy: 0.9732 - lr: 1.0000e-05\n",
            "Epoch 93/100\n",
            "9/9 [==============================] - 1s 81ms/step - loss: 0.0621 - accuracy: 0.9848 - val_loss: 0.0456 - val_accuracy: 0.9732 - lr: 1.0000e-05\n",
            "Epoch 94/100\n",
            "9/9 [==============================] - 1s 82ms/step - loss: 0.0658 - accuracy: 0.9773 - val_loss: 0.0455 - val_accuracy: 0.9732 - lr: 1.0000e-05\n",
            "Epoch 95/100\n",
            "9/9 [==============================] - 1s 86ms/step - loss: 0.1044 - accuracy: 0.9635 - val_loss: 0.0455 - val_accuracy: 0.9732 - lr: 1.0000e-05\n",
            "Epoch 96/100\n",
            "9/9 [==============================] - 1s 89ms/step - loss: 0.0596 - accuracy: 0.9773 - val_loss: 0.0446 - val_accuracy: 0.9732 - lr: 1.0000e-05\n",
            "Epoch 97/100\n",
            "9/9 [==============================] - 1s 83ms/step - loss: 0.0863 - accuracy: 0.9697 - val_loss: 0.0444 - val_accuracy: 0.9732 - lr: 1.0000e-05\n",
            "Epoch 98/100\n",
            "9/9 [==============================] - 1s 82ms/step - loss: 0.0406 - accuracy: 0.9867 - val_loss: 0.0435 - val_accuracy: 0.9732 - lr: 1.0000e-05\n",
            "Epoch 99/100\n",
            "9/9 [==============================] - 1s 85ms/step - loss: 0.0639 - accuracy: 0.9754 - val_loss: 0.0435 - val_accuracy: 0.9732 - lr: 1.0000e-05\n",
            "Epoch 100/100\n",
            "9/9 [==============================] - 1s 95ms/step - loss: 0.0678 - accuracy: 0.9811 - val_loss: 0.0437 - val_accuracy: 0.9732 - lr: 1.0000e-05\n"
          ]
        }
      ],
      "source": [
        "#@title\n",
        "# run\n",
        "# # history = model.fit(X_train, y_train, epochs=100, batch_size=16,callbacks=[reduce_lr])\n",
        "# hist=model.fit(X_train, y_train, epochs=50, batch_size=16, callbacks=[reduce_lr], validation_data=(X_val,y_val),verbose=1)\n",
        "# # history = model.fit(X_train, y_train, epochs=150, batch_size=16)\n",
        "# histB6 = model.fit(trainAug.flow(X_train, y_train, batch_size=batch_size),\n",
        "#                  steps_per_epoch=len(X_train) // batch_size,\n",
        "#                  validation_data=(X_val, y_val),\n",
        "#                  epochs=EPOCHS, callbacks = [reduce_lr])\n",
        "hist = model.fit(trainAug.flow(X_train, y_train, batch_size=batch_size),\n",
        "                 steps_per_epoch=len(X_train) // batch_size,\n",
        "                 validation_data=(X_val, y_val),\n",
        "                 epochs=EPOCHS, callbacks = [reduce_lr])"
      ]
    },
    {
      "cell_type": "code",
      "source": [],
      "metadata": {
        "id": "Dj_tp1MybaVi"
      },
      "execution_count": null,
      "outputs": []
    },
    {
      "cell_type": "code",
      "execution_count": null,
      "metadata": {
        "id": "k-KQjNaUOL1r"
      },
      "outputs": [],
      "source": [
        "#@title\n"
      ]
    },
    {
      "cell_type": "code",
      "execution_count": null,
      "metadata": {
        "colab": {
          "base_uri": "https://localhost:8080/"
        },
        "id": "HjEfluW68skx",
        "outputId": "ae840159-393e-47b6-e303-35d657564113"
      },
      "outputs": [
        {
          "output_type": "stream",
          "name": "stdout",
          "text": [
            "X_train has shape: (741, 48, 48, 3)\n",
            "y_train has shape: (741, 6)\n",
            "\n",
            "X_valid has shape: (93, 48, 48, 3)\n",
            "y_valid has shape: (93, 6)\n",
            "\n",
            "X_test has shape: (93, 48, 48, 3)\n",
            "y_test has shape: (93, 6)\n",
            "\n",
            "X_train + X_valid + X_test = 927 samples in total\n"
          ]
        }
      ],
      "source": [
        "# Split the dataset into two subsets (70%-30%). The first one will be used for training.\n",
        "\n",
        "X_train, X_test, y_train, y_test = train_test_split(data, labels, test_size=0.2, shuffle=True, random_state=5)\n",
        "\n",
        "print(f\"X_train has shape: {X_train.shape}\")\n",
        "print(f\"y_train has shape: {y_train.shape}\\n\")\n",
        "\n",
        "# The second subset will be split into validation and test set (50%-50%).\n",
        "X_valid, X_test, y_valid, y_test = train_test_split(X_test, y_test, test_size=0.5, shuffle=True, random_state=3)\n",
        "\n",
        "print(f\"X_valid has shape: {X_valid.shape}\")\n",
        "print(f\"y_valid has shape: {y_valid.shape}\\n\")\n",
        "\n",
        "print(f\"X_test has shape: {X_test.shape}\")\n",
        "print(f\"y_test has shape: {y_test.shape}\\n\")\n",
        "\n",
        "print(f\"X_train + X_valid + X_test = {X_train.shape[0] + X_valid.shape[0] + X_test.shape[0]} samples in total\")"
      ]
    },
    {
      "cell_type": "code",
      "execution_count": null,
      "metadata": {
        "id": "Sr52_0aN83H0"
      },
      "outputs": [],
      "source": [
        "model.compile(optimizer=adam,\n",
        "                  loss='categorical_crossentropy',\n",
        "                  metrics=['accuracy'])"
      ]
    },
    {
      "cell_type": "code",
      "execution_count": null,
      "metadata": {
        "colab": {
          "base_uri": "https://localhost:8080/",
          "height": 493
        },
        "id": "rK8dVCxA8jzY",
        "outputId": "c64805ba-9527-4c22-f39b-0c083d295b65"
      },
      "outputs": [
        {
          "output_type": "stream",
          "name": "stdout",
          "text": [
            "[INFO] training network for 200 epochs...\n",
            "\n",
            "Epoch 1/200\n",
            "11/11 [==============================] - ETA: 0s - loss: 0.0670 - accuracy: 0.9749\n",
            "Epoch 1: val_accuracy improved from -inf to 1.00000, saving model to /content/drive/MyDrive/Data/tmp/checkpoint/weights.best.hdf5\n"
          ]
        },
        {
          "output_type": "error",
          "ename": "TypeError",
          "evalue": "ignored",
          "traceback": [
            "\u001b[0;31m---------------------------------------------------------------------------\u001b[0m",
            "\u001b[0;31mTypeError\u001b[0m                                 Traceback (most recent call last)",
            "\u001b[0;32m<ipython-input-52-7cd5113d6616>\u001b[0m in \u001b[0;36m<cell line: 13>\u001b[0;34m()\u001b[0m\n\u001b[1;32m     11\u001b[0m \u001b[0;34m\u001b[0m\u001b[0m\n\u001b[1;32m     12\u001b[0m \u001b[0mprint\u001b[0m\u001b[0;34m(\u001b[0m\u001b[0;34mf\"[INFO] training network for {EPOCHS} epochs...\\n\"\u001b[0m\u001b[0;34m)\u001b[0m\u001b[0;34m\u001b[0m\u001b[0;34m\u001b[0m\u001b[0m\n\u001b[0;32m---> 13\u001b[0;31m hist = model.fit(trainAug.flow(X_train, y_train, batch_size=batch_size),\n\u001b[0m\u001b[1;32m     14\u001b[0m                  \u001b[0msteps_per_epoch\u001b[0m\u001b[0;34m=\u001b[0m\u001b[0mlen\u001b[0m\u001b[0;34m(\u001b[0m\u001b[0mX_train\u001b[0m\u001b[0;34m)\u001b[0m \u001b[0;34m//\u001b[0m \u001b[0mbatch_size\u001b[0m\u001b[0;34m,\u001b[0m\u001b[0;34m\u001b[0m\u001b[0;34m\u001b[0m\u001b[0m\n\u001b[1;32m     15\u001b[0m                  \u001b[0mvalidation_data\u001b[0m\u001b[0;34m=\u001b[0m\u001b[0;34m(\u001b[0m\u001b[0mX_valid\u001b[0m\u001b[0;34m,\u001b[0m \u001b[0my_valid\u001b[0m\u001b[0;34m)\u001b[0m\u001b[0;34m,\u001b[0m\u001b[0;34m\u001b[0m\u001b[0;34m\u001b[0m\u001b[0m\n",
            "\u001b[0;32m/usr/local/lib/python3.10/dist-packages/keras/utils/traceback_utils.py\u001b[0m in \u001b[0;36merror_handler\u001b[0;34m(*args, **kwargs)\u001b[0m\n\u001b[1;32m     68\u001b[0m             \u001b[0;31m# To get the full stack trace, call:\u001b[0m\u001b[0;34m\u001b[0m\u001b[0;34m\u001b[0m\u001b[0m\n\u001b[1;32m     69\u001b[0m             \u001b[0;31m# `tf.debugging.disable_traceback_filtering()`\u001b[0m\u001b[0;34m\u001b[0m\u001b[0;34m\u001b[0m\u001b[0m\n\u001b[0;32m---> 70\u001b[0;31m             \u001b[0;32mraise\u001b[0m \u001b[0me\u001b[0m\u001b[0;34m.\u001b[0m\u001b[0mwith_traceback\u001b[0m\u001b[0;34m(\u001b[0m\u001b[0mfiltered_tb\u001b[0m\u001b[0;34m)\u001b[0m \u001b[0;32mfrom\u001b[0m \u001b[0;32mNone\u001b[0m\u001b[0;34m\u001b[0m\u001b[0;34m\u001b[0m\u001b[0m\n\u001b[0m\u001b[1;32m     71\u001b[0m         \u001b[0;32mfinally\u001b[0m\u001b[0;34m:\u001b[0m\u001b[0;34m\u001b[0m\u001b[0;34m\u001b[0m\u001b[0m\n\u001b[1;32m     72\u001b[0m             \u001b[0;32mdel\u001b[0m \u001b[0mfiltered_tb\u001b[0m\u001b[0;34m\u001b[0m\u001b[0;34m\u001b[0m\u001b[0m\n",
            "\u001b[0;32m/usr/lib/python3.10/json/__init__.py\u001b[0m in \u001b[0;36mdumps\u001b[0;34m(obj, skipkeys, ensure_ascii, check_circular, allow_nan, cls, indent, separators, default, sort_keys, **kw)\u001b[0m\n\u001b[1;32m    236\u001b[0m         \u001b[0mcheck_circular\u001b[0m\u001b[0;34m=\u001b[0m\u001b[0mcheck_circular\u001b[0m\u001b[0;34m,\u001b[0m \u001b[0mallow_nan\u001b[0m\u001b[0;34m=\u001b[0m\u001b[0mallow_nan\u001b[0m\u001b[0;34m,\u001b[0m \u001b[0mindent\u001b[0m\u001b[0;34m=\u001b[0m\u001b[0mindent\u001b[0m\u001b[0;34m,\u001b[0m\u001b[0;34m\u001b[0m\u001b[0;34m\u001b[0m\u001b[0m\n\u001b[1;32m    237\u001b[0m         \u001b[0mseparators\u001b[0m\u001b[0;34m=\u001b[0m\u001b[0mseparators\u001b[0m\u001b[0;34m,\u001b[0m \u001b[0mdefault\u001b[0m\u001b[0;34m=\u001b[0m\u001b[0mdefault\u001b[0m\u001b[0;34m,\u001b[0m \u001b[0msort_keys\u001b[0m\u001b[0;34m=\u001b[0m\u001b[0msort_keys\u001b[0m\u001b[0;34m,\u001b[0m\u001b[0;34m\u001b[0m\u001b[0;34m\u001b[0m\u001b[0m\n\u001b[0;32m--> 238\u001b[0;31m         **kw).encode(obj)\n\u001b[0m\u001b[1;32m    239\u001b[0m \u001b[0;34m\u001b[0m\u001b[0m\n\u001b[1;32m    240\u001b[0m \u001b[0;34m\u001b[0m\u001b[0m\n",
            "\u001b[0;32m/usr/lib/python3.10/json/encoder.py\u001b[0m in \u001b[0;36mencode\u001b[0;34m(self, o)\u001b[0m\n\u001b[1;32m    197\u001b[0m         \u001b[0;31m# exceptions aren't as detailed.  The list call should be roughly\u001b[0m\u001b[0;34m\u001b[0m\u001b[0;34m\u001b[0m\u001b[0m\n\u001b[1;32m    198\u001b[0m         \u001b[0;31m# equivalent to the PySequence_Fast that ''.join() would do.\u001b[0m\u001b[0;34m\u001b[0m\u001b[0;34m\u001b[0m\u001b[0m\n\u001b[0;32m--> 199\u001b[0;31m         \u001b[0mchunks\u001b[0m \u001b[0;34m=\u001b[0m \u001b[0mself\u001b[0m\u001b[0;34m.\u001b[0m\u001b[0miterencode\u001b[0m\u001b[0;34m(\u001b[0m\u001b[0mo\u001b[0m\u001b[0;34m,\u001b[0m \u001b[0m_one_shot\u001b[0m\u001b[0;34m=\u001b[0m\u001b[0;32mTrue\u001b[0m\u001b[0;34m)\u001b[0m\u001b[0;34m\u001b[0m\u001b[0;34m\u001b[0m\u001b[0m\n\u001b[0m\u001b[1;32m    200\u001b[0m         \u001b[0;32mif\u001b[0m \u001b[0;32mnot\u001b[0m \u001b[0misinstance\u001b[0m\u001b[0;34m(\u001b[0m\u001b[0mchunks\u001b[0m\u001b[0;34m,\u001b[0m \u001b[0;34m(\u001b[0m\u001b[0mlist\u001b[0m\u001b[0;34m,\u001b[0m \u001b[0mtuple\u001b[0m\u001b[0;34m)\u001b[0m\u001b[0;34m)\u001b[0m\u001b[0;34m:\u001b[0m\u001b[0;34m\u001b[0m\u001b[0;34m\u001b[0m\u001b[0m\n\u001b[1;32m    201\u001b[0m             \u001b[0mchunks\u001b[0m \u001b[0;34m=\u001b[0m \u001b[0mlist\u001b[0m\u001b[0;34m(\u001b[0m\u001b[0mchunks\u001b[0m\u001b[0;34m)\u001b[0m\u001b[0;34m\u001b[0m\u001b[0;34m\u001b[0m\u001b[0m\n",
            "\u001b[0;32m/usr/lib/python3.10/json/encoder.py\u001b[0m in \u001b[0;36miterencode\u001b[0;34m(self, o, _one_shot)\u001b[0m\n\u001b[1;32m    255\u001b[0m                 \u001b[0mself\u001b[0m\u001b[0;34m.\u001b[0m\u001b[0mkey_separator\u001b[0m\u001b[0;34m,\u001b[0m \u001b[0mself\u001b[0m\u001b[0;34m.\u001b[0m\u001b[0mitem_separator\u001b[0m\u001b[0;34m,\u001b[0m \u001b[0mself\u001b[0m\u001b[0;34m.\u001b[0m\u001b[0msort_keys\u001b[0m\u001b[0;34m,\u001b[0m\u001b[0;34m\u001b[0m\u001b[0;34m\u001b[0m\u001b[0m\n\u001b[1;32m    256\u001b[0m                 self.skipkeys, _one_shot)\n\u001b[0;32m--> 257\u001b[0;31m         \u001b[0;32mreturn\u001b[0m \u001b[0m_iterencode\u001b[0m\u001b[0;34m(\u001b[0m\u001b[0mo\u001b[0m\u001b[0;34m,\u001b[0m \u001b[0;36m0\u001b[0m\u001b[0;34m)\u001b[0m\u001b[0;34m\u001b[0m\u001b[0;34m\u001b[0m\u001b[0m\n\u001b[0m\u001b[1;32m    258\u001b[0m \u001b[0;34m\u001b[0m\u001b[0m\n\u001b[1;32m    259\u001b[0m def _make_iterencode(markers, _default, _encoder, _indent, _floatstr,\n",
            "\u001b[0;31mTypeError\u001b[0m: Unable to serialize [2.0896919 2.1128857 2.1081853] to JSON. Unrecognized type <class 'tensorflow.python.framework.ops.EagerTensor'>."
          ]
        }
      ],
      "source": [
        "batch_size = 64\n",
        "filepath = \"/content/drive/MyDrive/Data/tmp/checkpoint/weights.best.hdf5\"\n",
        "\n",
        "# Define the necessary callbacks\n",
        "checkpoint = ModelCheckpoint(filepath, monitor='val_accuracy', verbose=1, save_best_only=True, mode='max')\n",
        "# earlystopping = EarlyStopping(monitor='val_accuracy', patience=15, verbose=1, mode='auto', restore_best_weights=True)\n",
        "rlrop = ReduceLROnPlateau(monitor='val_accuracy', mode='max', patience=5, factor=0.5, min_lr=1e-6, verbose=1)\n",
        "\n",
        "callbacks = [checkpoint,  rlrop]\n",
        "EPOCHS =200\n",
        "\n",
        "print(f\"[INFO] training network for {EPOCHS} epochs...\\n\")\n",
        "hist = model.fit(trainAug.flow(X_train, y_train, batch_size=batch_size),\n",
        "                 steps_per_epoch=len(X_train) // batch_size,\n",
        "                 validation_data=(X_valid, y_valid),\n",
        "                 epochs=EPOCHS, callbacks=callbacks)"
      ]
    },
    {
      "cell_type": "code",
      "execution_count": null,
      "metadata": {
        "colab": {
          "base_uri": "https://localhost:8080/"
        },
        "id": "bOyTZ_RVzjFj",
        "outputId": "461f7df1-127c-4f59-d1eb-eecd24d25f03"
      },
      "outputs": [
        {
          "output_type": "stream",
          "name": "stdout",
          "text": [
            "\n",
            "Testing ------------\n",
            "3/3 [==============================] - 0s 16ms/step - loss: 0.0162 - accuracy: 0.9892\n"
          ]
        }
      ],
      "source": [
        "print('\\nTesting ------------')\n",
        "# Evaluate the model with the metrics we defined earlier\n",
        "loss, accuracy = model.evaluate(X_test, y_test, verbose = 1)"
      ]
    },
    {
      "cell_type": "code",
      "execution_count": null,
      "metadata": {
        "colab": {
          "base_uri": "https://localhost:8080/"
        },
        "id": "O8Y80jWX0ag2",
        "outputId": "35e32f0e-9376-4110-81fb-236bb23b3bcc"
      },
      "outputs": [
        {
          "output_type": "stream",
          "name": "stdout",
          "text": [
            "test loss: 0.016152380034327507\n",
            "test accuracy: 0.9892473220825195\n"
          ]
        }
      ],
      "source": [
        "print('test loss:', loss)\n",
        "print('test accuracy:', accuracy)"
      ]
    },
    {
      "cell_type": "code",
      "execution_count": null,
      "metadata": {
        "id": "govWheLfc8xp",
        "colab": {
          "base_uri": "https://localhost:8080/"
        },
        "outputId": "8cde2858-5eb7-44ea-e775-1872bc4c1f5b"
      },
      "outputs": [
        {
          "output_type": "stream",
          "name": "stdout",
          "text": [
            "3/3 [==============================] - 1s 12ms/step\n"
          ]
        }
      ],
      "source": [
        "#predict\n",
        "y_pred = model.predict(X_test)"
      ]
    },
    {
      "cell_type": "code",
      "execution_count": null,
      "metadata": {
        "colab": {
          "base_uri": "https://localhost:8080/",
          "height": 490
        },
        "id": "zOVgCfop7YT1",
        "outputId": "3a8a60f0-b741-45a4-8e5c-d3db627607e7"
      },
      "outputs": [
        {
          "output_type": "display_data",
          "data": {
            "text/plain": [
              "<Figure size 640x480 with 1 Axes>"
            ],
            "image/png": "[encoded data removed]"
          },
          "metadata": {}
        },
        {
          "output_type": "display_data",
          "data": {
            "text/plain": [
              "<Figure size 640x480 with 0 Axes>"
            ]
          },
          "metadata": {}
        }
      ],
      "source": [
        "# summarize history for loss\n",
        "import matplotlib.pyplot as plt\n",
        "\n",
        "# plt.plot(hist.history['loss'])\n",
        "plt.plot(histB6.history['loss'], 'g', label = 'B6-Loss')\n",
        "plt.plot(histB6.history['val_loss'], 'r', label = 'B6-Val_Loss')\n",
        "# plt.plot(hist.history['val_loss'])\n",
        "plt.title('model loss')\n",
        "plt.ylabel('loss')\n",
        "plt.xlabel('epoch')\n",
        "plt.legend(['train', 'test'], loc='upper left')\n",
        "plt.show()\n",
        "plt.savefig('efficienetB6CK+.jpg')"
      ]
    },
    {
      "cell_type": "code",
      "execution_count": null,
      "metadata": {
        "colab": {
          "base_uri": "https://localhost:8080/",
          "height": 252
        },
        "id": "y9peDVKd7kfQ",
        "outputId": "a953db86-b359-43c6-cff3-a1cc131306da"
      },
      "outputs": [
        {
          "output_type": "error",
          "ename": "NameError",
          "evalue": "ignored",
          "traceback": [
            "\u001b[0;31m---------------------------------------------------------------------------\u001b[0m",
            "\u001b[0;31mNameError\u001b[0m                                 Traceback (most recent call last)",
            "\u001b[0;32m<ipython-input-57-b632e742cc41>\u001b[0m in \u001b[0;36m<cell line: 2>\u001b[0;34m()\u001b[0m\n\u001b[1;32m      1\u001b[0m \u001b[0;32mimport\u001b[0m \u001b[0mmatplotlib\u001b[0m\u001b[0;34m.\u001b[0m\u001b[0mpyplot\u001b[0m \u001b[0;32mas\u001b[0m \u001b[0mplt\u001b[0m\u001b[0;34m\u001b[0m\u001b[0;34m\u001b[0m\u001b[0m\n\u001b[0;32m----> 2\u001b[0;31m \u001b[0macc\u001b[0m \u001b[0;34m=\u001b[0m \u001b[0mhist\u001b[0m\u001b[0;34m.\u001b[0m\u001b[0mhistory\u001b[0m\u001b[0;34m[\u001b[0m\u001b[0;34m'accuracy'\u001b[0m\u001b[0;34m]\u001b[0m\u001b[0;34m\u001b[0m\u001b[0;34m\u001b[0m\u001b[0m\n\u001b[0m\u001b[1;32m      3\u001b[0m \u001b[0mval_acc\u001b[0m \u001b[0;34m=\u001b[0m \u001b[0mhist\u001b[0m\u001b[0;34m.\u001b[0m\u001b[0mhistory\u001b[0m\u001b[0;34m[\u001b[0m\u001b[0;34m'val_accuracy'\u001b[0m\u001b[0;34m]\u001b[0m\u001b[0;34m\u001b[0m\u001b[0;34m\u001b[0m\u001b[0m\n\u001b[1;32m      4\u001b[0m \u001b[0mloss\u001b[0m \u001b[0;34m=\u001b[0m \u001b[0mhist\u001b[0m\u001b[0;34m.\u001b[0m\u001b[0mhistory\u001b[0m\u001b[0;34m[\u001b[0m\u001b[0;34m'loss'\u001b[0m\u001b[0;34m]\u001b[0m\u001b[0;34m\u001b[0m\u001b[0;34m\u001b[0m\u001b[0m\n\u001b[1;32m      5\u001b[0m \u001b[0mval_loss\u001b[0m \u001b[0;34m=\u001b[0m \u001b[0mhist\u001b[0m\u001b[0;34m.\u001b[0m\u001b[0mhistory\u001b[0m\u001b[0;34m[\u001b[0m\u001b[0;34m'val_loss'\u001b[0m\u001b[0;34m]\u001b[0m\u001b[0;34m\u001b[0m\u001b[0;34m\u001b[0m\u001b[0m\n",
            "\u001b[0;31mNameError\u001b[0m: name 'hist' is not defined"
          ]
        }
      ],
      "source": [
        "import matplotlib.pyplot as plt\n",
        "acc = hist.history['accuracy']\n",
        "val_acc = hist.history['val_accuracy']\n",
        "loss = hist.history['loss']\n",
        "val_loss = hist.history['val_loss']\n",
        "\n",
        "epochs = range(1, len(acc) + 1)\n",
        "plt.plot(epochs, acc, 'r', label='Training acc')\n",
        "plt.plot(epochs, val_acc, 'b', label='Validation acc')\n",
        "# plt.plot(epochs, accB6, 'r', label='Training acc')\n",
        "# plt.plot(epochs, val_acc, 'b', label='Validation acc')\n",
        "plt.title('Training and validation accuracy')\n",
        "plt.legend()\n",
        "plt.figure()\n",
        "plt.savefig('efficientnetB6CKacc.jpg')\n",
        "plt.plot(epochs, loss, 'r', label='Training loss')\n",
        "plt.plot(epochs, val_loss, 'b', label='Validation loss')\n",
        "plt.title('Training and validation loss')\n",
        "plt.legend()\n",
        "plt.show()\n",
        "plt.savefig('efficienetB6CKloss.jpg')"
      ]
    },
    {
      "cell_type": "code",
      "execution_count": null,
      "metadata": {
        "colab": {
          "base_uri": "https://localhost:8080/",
          "height": 1000
        },
        "id": "5Vs0375ydrFw",
        "outputId": "06b7df50-64c1-429f-c85f-e3b011cf459b"
      },
      "outputs": [
        {
          "output_type": "stream",
          "name": "stdout",
          "text": [
            "<class 'numpy.ndarray'>\n"
          ]
        },
        {
          "output_type": "display_data",
          "data": {
            "text/plain": [
              "<Figure size 1800x1300 with 10 Axes>"
            ],
            "image/png": "[encoded data removed]"
          },
          "metadata": {}
        }
      ],
      "source": [
        "samples = np.random.choice(len(X_test), 5)\n",
        "print(type(samples))\n",
        "samples = [0, 15,40,70,80]\n",
        "predictions = model.predict(X_test[samples], verbose=0)\n",
        "\n",
        "fig, axes = plt.subplots(len(samples), 2, figsize=(18, 13))\n",
        "fig.subplots_adjust(hspace=0.3, wspace=-0.2)\n",
        "\n",
        "for i, (prediction, image, label) in enumerate(zip(predictions, X_test[samples], y_test[samples])):\n",
        "\n",
        "    axes[i, 0].imshow(np.squeeze(image/255.))\n",
        "    axes[i, 0].get_xaxis().set_visible(False)\n",
        "    axes[i, 0].get_yaxis().set_visible(False)\n",
        "    axes[i, 0].text(1., -3, f'Actual Emotion: [{mapping[np.argmax(label)]}]', weight='bold')\n",
        "\n",
        "    axes[i, 1].bar(np.arange(len(prediction)), prediction)\n",
        "    axes[i, 1].set_xticks(np.arange(len(prediction)))\n",
        "    axes[i, 1].set_title(f\"Model's Prediction: [{mapping[np.argmax(prediction)]}]\", weight='bold')"
      ]
    },
    {
      "cell_type": "code",
      "execution_count": null,
      "metadata": {
        "id": "znJdI68ecQdJ"
      },
      "outputs": [],
      "source": [
        "from sklearn.metrics import roc_curve,auc\n",
        "from itertools import cycle"
      ]
    },
    {
      "cell_type": "code",
      "execution_count": null,
      "metadata": {
        "id": "1H1VTrxmcT8h"
      },
      "outputs": [],
      "source": [
        "# new_label = ['anger','contempt','disgust','fear','happy','sadness','surprise']\n",
        "new_label = ['anger','disgust','fear','happy','sadness','surprise']\n",
        "final_label = new_label\n",
        "new_class = 6"
      ]
    },
    {
      "cell_type": "code",
      "execution_count": null,
      "metadata": {
        "id": "qGu1rPCjcpiJ"
      },
      "outputs": [],
      "source": [
        "#ravel flatten the array into single vector\n",
        "y_pred_ravel = y_pred.ravel()\n",
        "lw = 2"
      ]
    },
    {
      "cell_type": "code",
      "execution_count": null,
      "metadata": {
        "id": "kne21KGVjw5B"
      },
      "outputs": [],
      "source": []
    },
    {
      "cell_type": "code",
      "execution_count": null,
      "metadata": {
        "colab": {
          "base_uri": "https://localhost:8080/",
          "height": 472
        },
        "id": "FLIbUKXDdRQ5",
        "outputId": "8fead715-38a4-41ab-c898-1dd8962038cf"
      },
      "outputs": [
        {
          "output_type": "display_data",
          "data": {
            "text/plain": [
              "<Figure size 640x480 with 1 Axes>"
            ],
            "image/png": "[encoded data removed]"
          },
          "metadata": {}
        }
      ],
      "source": [
        "fpr = dict()\n",
        "tpr = dict()\n",
        "roc_auc = dict()\n",
        "\n",
        "for i in range(new_class):\n",
        "    fpr[i], tpr[i], _ = roc_curve(y_test[:,i], y_pred[:,i])\n",
        "    roc_auc[i] = auc(fpr[i], tpr[i])\n",
        "\n",
        "#colors = cycle(['red', 'green','black'])\n",
        "colors = cycle(['red', 'green','black','blue', 'yellow','purple','orange'])\n",
        "for i, color in zip(range(new_class), colors):\n",
        "    plt.plot(fpr[i], tpr[i], color=color, lw=lw,\n",
        "             label='ROC curve of class {0}'''.format(final_label[i]))\n",
        "\n",
        "plt.plot([0, 1], [0, 1], 'k--', lw=lw)\n",
        "plt.xlim([0, 1.0])\n",
        "plt.ylim([0.0, 1.05])\n",
        "plt.xlabel('False Positive Rate')\n",
        "plt.ylabel('True Positive Rate')\n",
        "plt.title('Receiver Operating Characteristic')\n",
        "plt.legend(loc=\"lower right\")\n",
        "plt.show()"
      ]
    },
    {
      "cell_type": "code",
      "execution_count": null,
      "metadata": {
        "colab": {
          "base_uri": "https://localhost:8080/"
        },
        "id": "6X-nRGWy9_UA",
        "outputId": "5737c641-333e-43c7-cdb8-7e43bf12e55c"
      },
      "outputs": [
        {
          "output_type": "stream",
          "name": "stdout",
          "text": [
            "3/3 [==============================] - 0s 17ms/step - loss: 0.0162 - accuracy: 0.9892\n",
            "3/3 [==============================] - 0s 12ms/step\n"
          ]
        },
        {
          "output_type": "execute_result",
          "data": {
            "text/plain": [
              "array([[5.70356650e-17, 1.73545967e-17, 7.94987340e-12, 1.00000000e+00,\n",
              "        1.88071998e-19, 2.24814042e-17],\n",
              "       [1.06856755e-14, 4.57642214e-12, 1.78786277e-14, 1.49891033e-17,\n",
              "        8.01678376e-11, 1.00000000e+00],\n",
              "       [2.53677688e-04, 1.33552649e-05, 9.97271001e-01, 2.64754111e-04,\n",
              "        1.77530409e-03, 4.21851262e-04],\n",
              "       [7.24921338e-05, 8.59236843e-06, 9.97930288e-01, 1.31835684e-03,\n",
              "        5.69848518e-04, 1.00342426e-04],\n",
              "       [1.25253870e-18, 1.06460759e-16, 4.08856054e-20, 8.47871591e-28,\n",
              "        1.47776671e-14, 1.00000000e+00],\n",
              "       [3.55195094e-17, 6.48329947e-20, 1.04429218e-14, 1.00000000e+00,\n",
              "        2.12931234e-21, 1.44232466e-16],\n",
              "       [6.68887723e-11, 4.99688824e-09, 1.00832259e-10, 4.15974893e-12,\n",
              "        2.65858091e-08, 1.00000000e+00],\n",
              "       [4.60041434e-01, 1.16066751e-03, 3.57764337e-04, 1.51493741e-05,\n",
              "        5.38387418e-01, 3.75741001e-05],\n",
              "       [9.30057286e-06, 5.94029586e-07, 9.96324956e-01, 3.61318444e-03,\n",
              "        3.82291291e-05, 1.37748029e-05],\n",
              "       [3.93187599e-17, 2.56424522e-18, 4.13500289e-13, 1.00000000e+00,\n",
              "        2.02378348e-20, 2.17165334e-17],\n",
              "       [5.19765828e-12, 1.00138006e-11, 6.91089710e-08, 9.99999881e-01,\n",
              "        1.92970423e-13, 2.68282358e-11],\n",
              "       [5.60211561e-07, 1.31563129e-05, 2.70004051e-07, 5.17831644e-08,\n",
              "        8.38681262e-06, 9.99977589e-01],\n",
              "       [8.83047527e-04, 9.98195946e-01, 5.60846456e-06, 3.80616475e-05,\n",
              "        8.65795184e-04, 1.15555949e-05],\n",
              "       [3.15592921e-08, 3.08902770e-07, 9.08384754e-06, 1.40861118e-08,\n",
              "        1.07021433e-05, 9.99979854e-01],\n",
              "       [9.94917989e-01, 6.40365533e-06, 2.77893128e-06, 1.29914852e-05,\n",
              "        5.05870627e-03, 1.10266080e-06],\n",
              "       [6.58063205e-18, 2.85857302e-13, 5.21497374e-17, 1.05802300e-19,\n",
              "        2.05830622e-12, 1.00000000e+00],\n",
              "       [1.39103893e-16, 8.13992624e-18, 1.26303341e-12, 1.00000000e+00,\n",
              "        9.02303540e-20, 5.76659501e-17],\n",
              "       [8.85931877e-06, 1.10539997e-06, 9.97504652e-01, 1.98304188e-03,\n",
              "        1.16349591e-04, 3.85887106e-04],\n",
              "       [6.82220076e-08, 3.75626001e-07, 1.91935078e-06, 9.99997258e-01,\n",
              "        2.01372408e-09, 4.10437082e-07],\n",
              "       [2.53279486e-05, 9.99948382e-01, 2.09651216e-06, 6.39512609e-06,\n",
              "        1.48962517e-05, 2.94653250e-06],\n",
              "       [8.88092340e-17, 7.08595100e-16, 1.04111992e-18, 3.65269624e-26,\n",
              "        5.56026274e-14, 1.00000000e+00],\n",
              "       [1.38190255e-01, 8.36229920e-01, 7.66225799e-04, 3.33051919e-03,\n",
              "        1.50142247e-02, 6.46885065e-03],\n",
              "       [2.45164947e-11, 3.53981297e-12, 1.11440379e-09, 1.00000000e+00,\n",
              "        2.97327199e-14, 3.30086757e-11],\n",
              "       [2.52180007e-06, 5.13507030e-06, 3.84582345e-05, 4.31504213e-06,\n",
              "        4.52382301e-05, 9.99904275e-01],\n",
              "       [6.51499676e-03, 2.16288143e-04, 3.61238397e-03, 1.08124786e-05,\n",
              "        9.89346445e-01, 2.99046922e-04],\n",
              "       [3.73335934e-05, 9.99944329e-01, 7.93673536e-08, 6.12332371e-07,\n",
              "        1.72505079e-05, 3.66007384e-07],\n",
              "       [5.82651370e-26, 1.47602186e-23, 3.22659333e-26, 2.65138629e-37,\n",
              "        1.08622902e-19, 1.00000000e+00],\n",
              "       [1.18837801e-13, 2.11023337e-13, 2.43406961e-11, 1.00000000e+00,\n",
              "        2.79752642e-16, 3.40684702e-13],\n",
              "       [5.46571791e-05, 9.99729455e-01, 5.91111575e-06, 2.57485390e-05,\n",
              "        1.63414938e-04, 2.06948789e-05],\n",
              "       [2.44943686e-02, 1.26292638e-03, 9.75088328e-02, 4.26579703e-04,\n",
              "        8.68218541e-01, 8.08869023e-03],\n",
              "       [2.63056805e-14, 1.55515995e-14, 4.64437169e-11, 1.00000000e+00,\n",
              "        6.89668387e-17, 1.66131797e-13],\n",
              "       [1.71213702e-04, 9.98331368e-01, 6.00014973e-05, 4.71497369e-05,\n",
              "        1.27219746e-03, 1.18125339e-04],\n",
              "       [2.69468952e-12, 1.37838962e-10, 9.55035773e-11, 6.08710063e-14,\n",
              "        3.88475785e-09, 1.00000000e+00],\n",
              "       [2.40475142e-08, 5.86032797e-07, 8.27771714e-07, 1.15306491e-07,\n",
              "        2.59961575e-06, 9.99995828e-01],\n",
              "       [6.35809045e-07, 3.38676180e-08, 9.99789417e-01, 1.79154347e-04,\n",
              "        1.04144074e-05, 2.03873460e-05],\n",
              "       [1.86489504e-02, 6.70928333e-04, 1.74240068e-01, 2.97191466e-04,\n",
              "        8.04741740e-01, 1.40105328e-03],\n",
              "       [8.98434818e-01, 2.34504623e-05, 4.81327646e-04, 1.34404354e-05,\n",
              "        1.01043753e-01, 3.10569339e-06],\n",
              "       [1.43852830e-07, 6.63341041e-07, 1.28391196e-06, 3.15350206e-07,\n",
              "        7.64656306e-06, 9.99989986e-01],\n",
              "       [6.35257129e-06, 2.71989593e-05, 1.78616086e-04, 1.95057037e-05,\n",
              "        1.34409507e-04, 9.99633908e-01],\n",
              "       [1.64880609e-11, 1.48009410e-10, 1.33844921e-07, 9.99999881e-01,\n",
              "        3.76785029e-13, 1.26108235e-10],\n",
              "       [5.86923754e-17, 5.91083579e-14, 1.81633417e-16, 5.06578074e-24,\n",
              "        3.32373603e-12, 1.00000000e+00],\n",
              "       [1.20522176e-17, 2.90636189e-15, 8.91472564e-18, 8.34273848e-22,\n",
              "        1.03272100e-13, 1.00000000e+00],\n",
              "       [2.48158729e-04, 1.04564083e-06, 1.73751232e-05, 7.83423388e-08,\n",
              "        9.99732196e-01, 1.17371326e-06],\n",
              "       [9.39935329e-04, 9.98910904e-01, 1.71388581e-06, 4.57400965e-05,\n",
              "        9.38969097e-05, 7.73957527e-06],\n",
              "       [4.05417522e-04, 1.11161125e-06, 5.47804257e-06, 7.92883359e-09,\n",
              "        9.99587715e-01, 2.57050203e-07],\n",
              "       [4.57081886e-04, 4.20962715e-06, 1.61007029e-05, 5.38018092e-08,\n",
              "        9.99519587e-01, 2.95770474e-06],\n",
              "       [9.38737742e-07, 3.20239337e-06, 3.25508736e-05, 9.99962926e-01,\n",
              "        3.57215590e-08, 3.57803231e-07],\n",
              "       [3.33546799e-22, 9.57023864e-25, 9.75761441e-18, 1.00000000e+00,\n",
              "        1.42499202e-26, 4.33794132e-22],\n",
              "       [1.19264216e-04, 4.86871613e-06, 9.96068120e-01, 9.41259030e-04,\n",
              "        2.55335681e-03, 3.13175289e-04],\n",
              "       [1.26799875e-07, 3.57494855e-06, 2.62416393e-07, 4.26793690e-07,\n",
              "        2.84024463e-06, 9.99992728e-01],\n",
              "       [6.42984814e-05, 5.23195104e-06, 9.96968329e-01, 2.41364702e-03,\n",
              "        4.15401038e-04, 1.33080102e-04],\n",
              "       [4.36598015e-11, 9.42867784e-10, 1.53967472e-09, 4.12287343e-10,\n",
              "        1.61015663e-08, 1.00000000e+00],\n",
              "       [7.30161992e-05, 9.99825180e-01, 1.72274360e-06, 1.41360306e-05,\n",
              "        7.79350958e-05, 8.03324019e-06],\n",
              "       [2.07192388e-11, 1.02177685e-12, 3.35091532e-09, 1.00000000e+00,\n",
              "        1.35532847e-13, 5.07670251e-12],\n",
              "       [1.36884965e-11, 1.66938789e-11, 1.89349372e-08, 1.00000000e+00,\n",
              "        1.63395922e-13, 1.39615394e-11],\n",
              "       [1.82407143e-06, 9.46497676e-06, 1.38531414e-05, 2.48923061e-06,\n",
              "        6.87671418e-05, 9.99903560e-01],\n",
              "       [9.96699870e-01, 1.51966390e-06, 3.58468333e-06, 7.41750966e-07,\n",
              "        3.29405209e-03, 1.81749130e-07],\n",
              "       [3.50745745e-06, 9.99984980e-01, 3.28952751e-07, 2.07470589e-06,\n",
              "        8.46835610e-06, 6.55249664e-07],\n",
              "       [1.06630772e-07, 1.38827147e-06, 1.24370172e-06, 5.32915720e-08,\n",
              "        1.21218263e-05, 9.99985099e-01],\n",
              "       [4.32370725e-05, 9.99943256e-01, 3.49936442e-07, 4.88702790e-06,\n",
              "        7.88549278e-06, 2.88706531e-07],\n",
              "       [3.64232932e-07, 6.65909874e-06, 4.16022067e-06, 9.88485408e-06,\n",
              "        5.06090419e-06, 9.99973893e-01],\n",
              "       [9.38343929e-20, 2.46158362e-18, 7.33611945e-21, 1.46116543e-30,\n",
              "        1.88534986e-15, 1.00000000e+00],\n",
              "       [2.41504820e-12, 1.59243604e-12, 2.28145436e-09, 1.00000000e+00,\n",
              "        9.64159477e-15, 1.04205143e-11],\n",
              "       [2.12133742e-07, 2.37120707e-06, 3.84924334e-07, 2.32183709e-07,\n",
              "        7.36666516e-06, 9.99989390e-01],\n",
              "       [8.43404050e-05, 2.48900074e-06, 9.97582555e-01, 7.82203220e-04,\n",
              "        1.09245966e-03, 4.56050184e-04],\n",
              "       [5.12894709e-04, 9.67612723e-04, 5.38122468e-03, 8.09544988e-04,\n",
              "        1.50422868e-03, 9.90824580e-01],\n",
              "       [3.66487853e-08, 1.25437127e-08, 1.29273559e-07, 9.99999762e-01,\n",
              "        3.66885439e-10, 1.28877318e-07],\n",
              "       [9.95200965e-24, 1.84981637e-21, 2.57929900e-22, 2.20795154e-29,\n",
              "        1.23334631e-17, 1.00000000e+00],\n",
              "       [2.67693703e-03, 2.19165140e-05, 2.34480147e-04, 8.13451891e-07,\n",
              "        9.97047365e-01, 1.84960263e-05],\n",
              "       [2.67078776e-05, 9.99929309e-01, 7.07127981e-07, 3.98604243e-06,\n",
              "        3.92548536e-05, 1.07009072e-07],\n",
              "       [3.86375461e-07, 4.68116832e-06, 6.77367425e-05, 9.99924064e-01,\n",
              "        4.28678106e-08, 3.10564906e-06],\n",
              "       [9.99965429e-01, 1.69867997e-06, 4.26093472e-09, 3.97882580e-08,\n",
              "        3.28474889e-05, 1.07007125e-09],\n",
              "       [1.02864149e-04, 9.99883533e-01, 9.66713287e-08, 8.03556077e-07,\n",
              "        1.26170389e-05, 5.77327910e-08],\n",
              "       [3.61827668e-04, 9.99151230e-01, 4.90753848e-07, 1.80800077e-06,\n",
              "        4.82105301e-04, 2.55069881e-06],\n",
              "       [9.99807417e-01, 1.03684772e-06, 2.99598526e-07, 2.19558865e-06,\n",
              "        1.88896694e-04, 8.08557772e-08],\n",
              "       [2.59596163e-06, 6.03057288e-06, 1.76102003e-05, 9.99963403e-01,\n",
              "        1.16858438e-07, 1.01976702e-05],\n",
              "       [9.99987006e-01, 2.63321022e-06, 2.01442294e-08, 4.56323903e-07,\n",
              "        9.88804823e-06, 6.32060226e-09],\n",
              "       [1.04065339e-06, 4.26618180e-06, 2.87815074e-05, 7.31554201e-06,\n",
              "        2.28388108e-05, 9.99935746e-01],\n",
              "       [1.45099634e-07, 3.99941598e-07, 3.71955048e-06, 9.99994874e-01,\n",
              "        6.75817580e-09, 8.59925876e-07],\n",
              "       [2.37093191e-04, 9.99168873e-01, 2.41235939e-05, 4.52925829e-04,\n",
              "        1.12080910e-04, 4.90135062e-06],\n",
              "       [1.00000000e+00, 8.30644553e-10, 1.57722307e-11, 1.38068479e-09,\n",
              "        4.86017981e-08, 2.74666002e-11],\n",
              "       [4.38343140e-09, 3.03490144e-09, 2.02593228e-07, 9.99999762e-01,\n",
              "        8.81550111e-11, 1.95419538e-08],\n",
              "       [1.22006439e-27, 5.71899607e-23, 1.26305097e-26, 5.07536561e-35,\n",
              "        3.94828331e-20, 1.00000000e+00],\n",
              "       [9.99935031e-01, 6.64886466e-06, 7.28917428e-07, 2.21785504e-05,\n",
              "        3.49355068e-05, 4.33164871e-07],\n",
              "       [5.00175403e-04, 9.70482128e-04, 9.50087514e-03, 8.99300503e-04,\n",
              "        2.21229391e-03, 9.85916913e-01],\n",
              "       [9.99992847e-01, 2.33036587e-07, 7.48941673e-08, 1.29647435e-06,\n",
              "        5.51376161e-06, 1.35628353e-09],\n",
              "       [3.47168648e-11, 2.51102420e-11, 3.30407102e-09, 1.00000000e+00,\n",
              "        1.67412444e-13, 3.98397669e-11],\n",
              "       [2.85764088e-13, 6.21106953e-13, 1.11137197e-10, 1.00000000e+00,\n",
              "        1.18790548e-15, 9.21615432e-13],\n",
              "       [4.42031160e-06, 9.99988198e-01, 1.64672542e-07, 2.31079383e-07,\n",
              "        6.99766861e-06, 7.76605305e-08],\n",
              "       [4.11759714e-07, 7.71528619e-10, 1.46271208e-08, 9.99999642e-01,\n",
              "        1.33722977e-10, 5.33113054e-10],\n",
              "       [2.98090952e-14, 4.91975337e-14, 1.13438130e-11, 1.00000000e+00,\n",
              "        1.18582667e-16, 5.85475678e-14],\n",
              "       [1.13010568e-14, 3.15989506e-16, 6.59065441e-11, 1.00000000e+00,\n",
              "        2.27809677e-17, 1.65754363e-15],\n",
              "       [4.99025628e-04, 6.94857135e-06, 9.94282603e-01, 1.79850811e-03,\n",
              "        3.33137438e-03, 8.14921368e-05]], dtype=float32)"
            ]
          },
          "metadata": {},
          "execution_count": 62
        }
      ],
      "source": [
        "score = model.evaluate(X_test, y_test)\n",
        "Pred=model.predict(X_test)\n",
        "Pred"
      ]
    },
    {
      "cell_type": "code",
      "execution_count": null,
      "metadata": {
        "id": "_tcQ8f1F-BZb",
        "colab": {
          "base_uri": "https://localhost:8080/"
        },
        "outputId": "75e332e7-aeb1-4db4-946b-d566cdca7120"
      },
      "outputs": [
        {
          "output_type": "stream",
          "name": "stdout",
          "text": [
            "              precision    recall  f1-score   support\n",
            "\n",
            "       Anger       1.00      0.90      0.95        10\n",
            "     Disgust       1.00      1.00      1.00        15\n",
            "        Fear       1.00      1.00      1.00         9\n",
            "       Happy       1.00      1.00      1.00        25\n",
            "     Sadness       0.88      1.00      0.93         7\n",
            "    Surprise       1.00      1.00      1.00        27\n",
            "\n",
            "    accuracy                           0.99        93\n",
            "   macro avg       0.98      0.98      0.98        93\n",
            "weighted avg       0.99      0.99      0.99        93\n",
            "\n"
          ]
        }
      ],
      "source": [
        "# mapping = {0:'anger', 1:'disgust', 2:'fear', 3:'happy', 4:'sadness', 5:'surprise'}\n",
        "labels_text = ['Anger', 'Disgust', 'Fear', 'Happy','Sadness', 'Surprise']\n",
        "from sklearn.metrics import confusion_matrix\n",
        "from sklearn.metrics import classification_report\n",
        "\n",
        "i=0\n",
        "Y_test_l=[]\n",
        "Pred_l=[]\n",
        "while(i<len(Pred)):\n",
        "  Y_test_l.append(int(np.argmax(y_test[i])))\n",
        "  Pred_l.append(int(np.argmax(Pred[i])))\n",
        "  i+=1\n",
        "\n",
        "report=classification_report(Y_test_l, Pred_l, target_names=labels_text)\n",
        "print(report)\n"
      ]
    },
    {
      "cell_type": "code",
      "execution_count": null,
      "metadata": {
        "colab": {
          "base_uri": "https://localhost:8080/",
          "height": 448
        },
        "id": "xG8hCnIl-Ucm",
        "outputId": "40b319e2-7464-4886-e580-c2ed839085c9"
      },
      "outputs": [
        {
          "output_type": "execute_result",
          "data": {
            "text/plain": [
              "<Axes: >"
            ]
          },
          "metadata": {},
          "execution_count": 64
        },
        {
          "output_type": "display_data",
          "data": {
            "text/plain": [
              "<Figure size 640x480 with 2 Axes>"
            ],
            "image/png": "[encoded data removed]"
          },
          "metadata": {}
        }
      ],
      "source": [
        "from operator import index\n",
        "results = confusion_matrix(Y_test_l, Pred_l)\n",
        "cm_array_df = pd.DataFrame(results, index=labels_text, columns=labels_text)\n",
        "import seaborn as sns\n",
        "\n",
        "# sns.heatmap(results, annot=True,  cmap=\"Greens\")\n",
        "plt.savefig('efficientB6CK+.jpg')\n",
        "# sns.heatmap(cm_array_df, annot=True,  cmap=\"Greens\")\n",
        "\n",
        "cf_matrix = confusion_matrix(Y_test_l, Pred_l)\n",
        "sns.heatmap(cf_matrix, linewidths=1, annot=True, cmap=\"Greens\")"
      ]
    },
    {
      "cell_type": "code",
      "execution_count": null,
      "metadata": {
        "colab": {
          "base_uri": "https://localhost:8080/"
        },
        "id": "vOeB3TtcdbL_",
        "outputId": "7337e0fd-77ec-47b2-b30a-d4144add355b"
      },
      "outputs": [
        {
          "output_type": "stream",
          "name": "stdout",
          "text": [
            "[[ 9  0  0  0  1  0]\n",
            " [ 0 15  0  0  0  0]\n",
            " [ 0  0  9  0  0  0]\n",
            " [ 0  0  0 25  0  0]\n",
            " [ 0  0  0  0  7  0]\n",
            " [ 0  0  0  0  0 27]]\n"
          ]
        }
      ],
      "source": [
        "label_to_text = {'Afraid','Angry', 'Disgusted','Happy', 'Neutral', 'Sad', 'Surprised'}\n",
        "\n",
        "results = confusion_matrix(Y_test_l, Pred_l, )\n",
        "print(results)\n",
        "# import seaborn as sns\n",
        "\n",
        "# sns.heatmap(results, annot=True, cmap=\"YlGnBu\")\n",
        "# print(\"EFFICIENTNET KDEF\")\n",
        "\n",
        "\n",
        "# # #Transform to df for easier plotting\n",
        "# cm_df = pd.DataFrame(results, index = label_to_text,\n",
        "#                       columns = label_to_text\n",
        "                    # )"
      ]
    },
    {
      "cell_type": "code",
      "execution_count": null,
      "metadata": {
        "colab": {
          "base_uri": "https://localhost:8080/"
        },
        "id": "oSKDI7zfPbGz",
        "outputId": "ab8b138f-7dc2-44f1-ffe6-72343b5e8cbe"
      },
      "outputs": [
        {
          "output_type": "execute_result",
          "data": {
            "text/plain": [
              "['input_1',\n",
              " 'rescaling',\n",
              " 'normalization',\n",
              " 'rescaling_1',\n",
              " 'stem_conv_pad',\n",
              " 'stem_conv',\n",
              " 'stem_bn',\n",
              " 'stem_activation',\n",
              " 'block1a_dwconv',\n",
              " 'block1a_bn',\n",
              " 'block1a_activation',\n",
              " 'block1a_se_squeeze',\n",
              " 'block1a_se_reshape',\n",
              " 'block1a_se_reduce',\n",
              " 'block1a_se_expand',\n",
              " 'block1a_se_excite',\n",
              " 'block1a_project_conv',\n",
              " 'block1a_project_bn',\n",
              " 'block2a_expand_conv',\n",
              " 'block2a_expand_bn',\n",
              " 'block2a_expand_activation',\n",
              " 'block2a_dwconv_pad',\n",
              " 'block2a_dwconv',\n",
              " 'block2a_bn',\n",
              " 'block2a_activation',\n",
              " 'block2a_se_squeeze',\n",
              " 'block2a_se_reshape',\n",
              " 'block2a_se_reduce',\n",
              " 'block2a_se_expand',\n",
              " 'block2a_se_excite',\n",
              " 'block2a_project_conv',\n",
              " 'block2a_project_bn',\n",
              " 'block2b_expand_conv',\n",
              " 'block2b_expand_bn',\n",
              " 'block2b_expand_activation',\n",
              " 'block2b_dwconv',\n",
              " 'block2b_bn',\n",
              " 'block2b_activation',\n",
              " 'block2b_se_squeeze',\n",
              " 'block2b_se_reshape',\n",
              " 'block2b_se_reduce',\n",
              " 'block2b_se_expand',\n",
              " 'block2b_se_excite',\n",
              " 'block2b_project_conv',\n",
              " 'block2b_project_bn',\n",
              " 'block2b_drop',\n",
              " 'block2b_add',\n",
              " 'block3a_expand_conv',\n",
              " 'block3a_expand_bn',\n",
              " 'block3a_expand_activation',\n",
              " 'block3a_dwconv_pad',\n",
              " 'block3a_dwconv',\n",
              " 'block3a_bn',\n",
              " 'block3a_activation',\n",
              " 'block3a_se_squeeze',\n",
              " 'block3a_se_reshape',\n",
              " 'block3a_se_reduce',\n",
              " 'block3a_se_expand',\n",
              " 'block3a_se_excite',\n",
              " 'block3a_project_conv',\n",
              " 'block3a_project_bn',\n",
              " 'block3b_expand_conv',\n",
              " 'block3b_expand_bn',\n",
              " 'block3b_expand_activation',\n",
              " 'block3b_dwconv',\n",
              " 'block3b_bn',\n",
              " 'block3b_activation',\n",
              " 'block3b_se_squeeze',\n",
              " 'block3b_se_reshape',\n",
              " 'block3b_se_reduce',\n",
              " 'block3b_se_expand',\n",
              " 'block3b_se_excite',\n",
              " 'block3b_project_conv',\n",
              " 'block3b_project_bn',\n",
              " 'block3b_drop',\n",
              " 'block3b_add',\n",
              " 'block4a_expand_conv',\n",
              " 'block4a_expand_bn',\n",
              " 'block4a_expand_activation',\n",
              " 'block4a_dwconv_pad',\n",
              " 'block4a_dwconv',\n",
              " 'block4a_bn',\n",
              " 'block4a_activation',\n",
              " 'block4a_se_squeeze',\n",
              " 'block4a_se_reshape',\n",
              " 'block4a_se_reduce',\n",
              " 'block4a_se_expand',\n",
              " 'block4a_se_excite',\n",
              " 'block4a_project_conv',\n",
              " 'block4a_project_bn',\n",
              " 'block4b_expand_conv',\n",
              " 'block4b_expand_bn',\n",
              " 'block4b_expand_activation',\n",
              " 'block4b_dwconv',\n",
              " 'block4b_bn',\n",
              " 'block4b_activation',\n",
              " 'block4b_se_squeeze',\n",
              " 'block4b_se_reshape',\n",
              " 'block4b_se_reduce',\n",
              " 'block4b_se_expand',\n",
              " 'block4b_se_excite',\n",
              " 'block4b_project_conv',\n",
              " 'block4b_project_bn',\n",
              " 'block4b_drop',\n",
              " 'block4b_add',\n",
              " 'block4c_expand_conv',\n",
              " 'block4c_expand_bn',\n",
              " 'block4c_expand_activation',\n",
              " 'block4c_dwconv',\n",
              " 'block4c_bn',\n",
              " 'block4c_activation',\n",
              " 'block4c_se_squeeze',\n",
              " 'block4c_se_reshape',\n",
              " 'block4c_se_reduce',\n",
              " 'block4c_se_expand',\n",
              " 'block4c_se_excite',\n",
              " 'block4c_project_conv',\n",
              " 'block4c_project_bn',\n",
              " 'block4c_drop',\n",
              " 'block4c_add',\n",
              " 'block5a_expand_conv',\n",
              " 'block5a_expand_bn',\n",
              " 'block5a_expand_activation',\n",
              " 'block5a_dwconv',\n",
              " 'block5a_bn',\n",
              " 'block5a_activation',\n",
              " 'block5a_se_squeeze',\n",
              " 'block5a_se_reshape',\n",
              " 'block5a_se_reduce',\n",
              " 'block5a_se_expand',\n",
              " 'block5a_se_excite',\n",
              " 'block5a_project_conv',\n",
              " 'block5a_project_bn',\n",
              " 'block5b_expand_conv',\n",
              " 'block5b_expand_bn',\n",
              " 'block5b_expand_activation',\n",
              " 'block5b_dwconv',\n",
              " 'block5b_bn',\n",
              " 'block5b_activation',\n",
              " 'block5b_se_squeeze',\n",
              " 'block5b_se_reshape',\n",
              " 'block5b_se_reduce',\n",
              " 'block5b_se_expand',\n",
              " 'block5b_se_excite',\n",
              " 'block5b_project_conv',\n",
              " 'block5b_project_bn',\n",
              " 'block5b_drop',\n",
              " 'block5b_add',\n",
              " 'block5c_expand_conv',\n",
              " 'block5c_expand_bn',\n",
              " 'block5c_expand_activation',\n",
              " 'block5c_dwconv',\n",
              " 'block5c_bn',\n",
              " 'block5c_activation',\n",
              " 'block5c_se_squeeze',\n",
              " 'block5c_se_reshape',\n",
              " 'block5c_se_reduce',\n",
              " 'block5c_se_expand',\n",
              " 'block5c_se_excite',\n",
              " 'block5c_project_conv',\n",
              " 'block5c_project_bn',\n",
              " 'block5c_drop',\n",
              " 'block5c_add',\n",
              " 'block6a_expand_conv',\n",
              " 'block6a_expand_bn',\n",
              " 'block6a_expand_activation',\n",
              " 'block6a_dwconv_pad',\n",
              " 'block6a_dwconv',\n",
              " 'block6a_bn',\n",
              " 'block6a_activation',\n",
              " 'block6a_se_squeeze',\n",
              " 'block6a_se_reshape',\n",
              " 'block6a_se_reduce',\n",
              " 'block6a_se_expand',\n",
              " 'block6a_se_excite',\n",
              " 'block6a_project_conv',\n",
              " 'block6a_project_bn',\n",
              " 'block6b_expand_conv',\n",
              " 'block6b_expand_bn',\n",
              " 'block6b_expand_activation',\n",
              " 'block6b_dwconv',\n",
              " 'block6b_bn',\n",
              " 'block6b_activation',\n",
              " 'block6b_se_squeeze',\n",
              " 'block6b_se_reshape',\n",
              " 'block6b_se_reduce',\n",
              " 'block6b_se_expand',\n",
              " 'block6b_se_excite',\n",
              " 'block6b_project_conv',\n",
              " 'block6b_project_bn',\n",
              " 'block6b_drop',\n",
              " 'block6b_add',\n",
              " 'block6c_expand_conv',\n",
              " 'block6c_expand_bn',\n",
              " 'block6c_expand_activation',\n",
              " 'block6c_dwconv',\n",
              " 'block6c_bn',\n",
              " 'block6c_activation',\n",
              " 'block6c_se_squeeze',\n",
              " 'block6c_se_reshape',\n",
              " 'block6c_se_reduce',\n",
              " 'block6c_se_expand',\n",
              " 'block6c_se_excite',\n",
              " 'block6c_project_conv',\n",
              " 'block6c_project_bn',\n",
              " 'block6c_drop',\n",
              " 'block6c_add',\n",
              " 'block6d_expand_conv',\n",
              " 'block6d_expand_bn',\n",
              " 'block6d_expand_activation',\n",
              " 'block6d_dwconv',\n",
              " 'block6d_bn',\n",
              " 'block6d_activation',\n",
              " 'block6d_se_squeeze',\n",
              " 'block6d_se_reshape',\n",
              " 'block6d_se_reduce',\n",
              " 'block6d_se_expand',\n",
              " 'block6d_se_excite',\n",
              " 'block6d_project_conv',\n",
              " 'block6d_project_bn',\n",
              " 'block6d_drop',\n",
              " 'block6d_add',\n",
              " 'block7a_expand_conv',\n",
              " 'block7a_expand_bn',\n",
              " 'block7a_expand_activation',\n",
              " 'block7a_dwconv',\n",
              " 'block7a_bn',\n",
              " 'block7a_activation',\n",
              " 'block7a_se_squeeze',\n",
              " 'block7a_se_reshape',\n",
              " 'block7a_se_reduce',\n",
              " 'block7a_se_expand',\n",
              " 'block7a_se_excite',\n",
              " 'block7a_project_conv',\n",
              " 'block7a_project_bn',\n",
              " 'top_conv',\n",
              " 'top_bn',\n",
              " 'top_activation',\n",
              " 'global_average_pooling2d',\n",
              " 'top_dropout',\n",
              " 'dense',\n",
              " 'dense_1']"
            ]
          },
          "metadata": {},
          "execution_count": 36
        }
      ],
      "source": [
        "layer_names = [layer.name for layer in model.layers]\n",
        "layer_names"
      ]
    },
    {
      "cell_type": "markdown",
      "metadata": {
        "id": "LbbaW79L3jHa"
      },
      "source": [
        "XGBOOST"
      ]
    },
    {
      "cell_type": "code",
      "execution_count": null,
      "metadata": {
        "id": "somzE0oZ0cCy"
      },
      "outputs": [],
      "source": [
        "#with xgboost\n",
        "import xgboost\n",
        "import pandas as pd\n",
        "import numpy as np\n",
        "from sklearn import metrics\n",
        "from sklearn.linear_model import LogisticRegression\n",
        "from sklearn.svm import SVC,LinearSVC\n",
        "# from sklearn.grid_search import GridSearchCV\n",
        "from sklearn.model_selection import GridSearchCV"
      ]
    },
    {
      "cell_type": "code",
      "execution_count": null,
      "metadata": {
        "colab": {
          "base_uri": "https://localhost:8080/"
        },
        "id": "ed-_cI7S0fRO",
        "outputId": "ea1afe3e-fcef-4cfb-881a-41df92de6527"
      },
      "outputs": [
        {
          "output_type": "stream",
          "name": "stdout",
          "text": [
            "24/24 [==============================] - 2s 10ms/step\n",
            "3/3 [==============================] - 0s 10ms/step\n",
            "(741, 1024)\n",
            "(741, 6)\n"
          ]
        }
      ],
      "source": [
        "X_train_xg = model_dense2_output.predict(X_train)\n",
        "X_test_xg = model_dense2_output.predict(X_test)\n",
        "print(np.array(X_train_xg).shape)\n",
        "print(np.array(y_train).shape)"
      ]
    },
    {
      "cell_type": "code",
      "execution_count": null,
      "metadata": {
        "colab": {
          "base_uri": "https://localhost:8080/"
        },
        "id": "PlFBk189Dxt0",
        "outputId": "15f3f5e0-5e45-421f-8330-fe22ca36bd7d"
      },
      "outputs": [
        {
          "output_type": "execute_result",
          "data": {
            "text/plain": [
              "(741,)"
            ]
          },
          "metadata": {},
          "execution_count": 39
        }
      ],
      "source": [
        "y_train[0:10,:]\n",
        "y_train1 = [np.argmax(y, axis=None) for y in y_train]\n",
        "len(y_train1)\n",
        "y_train1 = np.array(y_train1)\n",
        "y_train1.shape"
      ]
    },
    {
      "cell_type": "code",
      "execution_count": null,
      "metadata": {
        "colab": {
          "base_uri": "https://localhost:8080/"
        },
        "id": "zpJbRd8b0PfQ",
        "outputId": "dc0b02d6-a1c1-41cc-9a89-0fb1b954fc52"
      },
      "outputs": [
        {
          "output_type": "execute_result",
          "data": {
            "text/plain": [
              "(4446,)"
            ]
          },
          "metadata": {},
          "execution_count": 40
        }
      ],
      "source": [
        "y_train1 =y_train.reshape((741*6,))\n",
        "y_train1.shape"
      ]
    },
    {
      "cell_type": "code",
      "execution_count": null,
      "metadata": {
        "colab": {
          "base_uri": "https://localhost:8080/"
        },
        "id": "z-8_q6Eg0hV_",
        "outputId": "ba515655-be78-41b0-a9aa-b0f5ed92f710"
      },
      "outputs": [
        {
          "output_type": "stream",
          "name": "stdout",
          "text": [
            "(93, 48, 48, 3)\n",
            "(93, 6)\n"
          ]
        }
      ],
      "source": [
        "print(X_test.shape)\n",
        "print(y_test.shape)\n"
      ]
    },
    {
      "cell_type": "code",
      "execution_count": null,
      "metadata": {
        "colab": {
          "base_uri": "https://localhost:8080/",
          "height": 216
        },
        "id": "wfZtQjzP0i9E",
        "outputId": "c9ae1bad-f983-4215-d7d9-792518ddb588"
      },
      "outputs": [
        {
          "output_type": "error",
          "ename": "ValueError",
          "evalue": "ignored",
          "traceback": [
            "\u001b[0;31m---------------------------------------------------------------------------\u001b[0m",
            "\u001b[0;31mValueError\u001b[0m                                Traceback (most recent call last)",
            "\u001b[0;32m<ipython-input-49-9c3b22afc97e>\u001b[0m in \u001b[0;36m<cell line: 1>\u001b[0;34m()\u001b[0m\n\u001b[0;32m----> 1\u001b[0;31m \u001b[0mz\u001b[0m \u001b[0;34m=\u001b[0m \u001b[0mnp\u001b[0m\u001b[0;34m.\u001b[0m\u001b[0mconcatenate\u001b[0m\u001b[0;34m(\u001b[0m\u001b[0;34m[\u001b[0m\u001b[0mnp\u001b[0m\u001b[0;34m.\u001b[0m\u001b[0marray\u001b[0m\u001b[0;34m(\u001b[0m\u001b[0mX_train_xg\u001b[0m\u001b[0;34m)\u001b[0m\u001b[0;34m.\u001b[0m\u001b[0mreshape\u001b[0m\u001b[0;34m(\u001b[0m\u001b[0;36m741\u001b[0m\u001b[0;34m,\u001b[0m\u001b[0;36m1024\u001b[0m\u001b[0;34m)\u001b[0m\u001b[0;34m,\u001b[0m\u001b[0mnp\u001b[0m\u001b[0;34m.\u001b[0m\u001b[0marray\u001b[0m\u001b[0;34m(\u001b[0m\u001b[0my_train1\u001b[0m\u001b[0;34m)\u001b[0m\u001b[0;34m.\u001b[0m\u001b[0mreshape\u001b[0m\u001b[0;34m(\u001b[0m\u001b[0;36m741\u001b[0m\u001b[0;34m,\u001b[0m\u001b[0;36m1\u001b[0m\u001b[0;34m)\u001b[0m\u001b[0;34m]\u001b[0m\u001b[0;34m,\u001b[0m\u001b[0maxis\u001b[0m\u001b[0;34m=\u001b[0m\u001b[0;36m1\u001b[0m\u001b[0;34m)\u001b[0m\u001b[0;34m\u001b[0m\u001b[0;34m\u001b[0m\u001b[0m\n\u001b[0m\u001b[1;32m      2\u001b[0m \u001b[0mz\u001b[0m \u001b[0;34m=\u001b[0m \u001b[0mpd\u001b[0m\u001b[0;34m.\u001b[0m\u001b[0mDataFrame\u001b[0m\u001b[0;34m(\u001b[0m\u001b[0mz\u001b[0m\u001b[0;34m)\u001b[0m\u001b[0;34m\u001b[0m\u001b[0;34m\u001b[0m\u001b[0m\n\u001b[1;32m      3\u001b[0m \u001b[0mz\u001b[0m\u001b[0;34m.\u001b[0m\u001b[0mto_csv\u001b[0m\u001b[0;34m(\u001b[0m\u001b[0;34m'train_xg.csv'\u001b[0m\u001b[0;34m,\u001b[0m\u001b[0mindex\u001b[0m\u001b[0;34m=\u001b[0m\u001b[0;32mFalse\u001b[0m\u001b[0;34m)\u001b[0m\u001b[0;34m\u001b[0m\u001b[0;34m\u001b[0m\u001b[0m\n",
            "\u001b[0;31mValueError\u001b[0m: cannot reshape array of size 4446 into shape (741,1)"
          ]
        }
      ],
      "source": [
        "z = np.concatenate([np.array(X_train_xg).reshape(741,1024),np.array(y_train1).reshape(741,1)],axis=1)\n",
        "z = pd.DataFrame(z)\n",
        "z.to_csv('train_xg.csv',index=False)"
      ]
    },
    {
      "cell_type": "code",
      "execution_count": null,
      "metadata": {
        "colab": {
          "base_uri": "https://localhost:8080/",
          "height": 252
        },
        "id": "SXaY6sby0mUu",
        "outputId": "d55218f6-5c5c-45d6-cb36-2f3f9de23fee"
      },
      "outputs": [
        {
          "output_type": "error",
          "ename": "ValueError",
          "evalue": "ignored",
          "traceback": [
            "\u001b[0;31m---------------------------------------------------------------------------\u001b[0m",
            "\u001b[0;31mValueError\u001b[0m                                Traceback (most recent call last)",
            "\u001b[0;32m<ipython-input-46-52fd94143bad>\u001b[0m in \u001b[0;36m<cell line: 6>\u001b[0;34m()\u001b[0m\n\u001b[1;32m      4\u001b[0m \u001b[0my_test1\u001b[0m\u001b[0;34m.\u001b[0m\u001b[0mshape\u001b[0m\u001b[0;34m\u001b[0m\u001b[0;34m\u001b[0m\u001b[0m\n\u001b[1;32m      5\u001b[0m \u001b[0;34m\u001b[0m\u001b[0m\n\u001b[0;32m----> 6\u001b[0;31m \u001b[0mz\u001b[0m \u001b[0;34m=\u001b[0m \u001b[0mnp\u001b[0m\u001b[0;34m.\u001b[0m\u001b[0mconcatenate\u001b[0m\u001b[0;34m(\u001b[0m\u001b[0;34m[\u001b[0m\u001b[0mnp\u001b[0m\u001b[0;34m.\u001b[0m\u001b[0marray\u001b[0m\u001b[0;34m(\u001b[0m\u001b[0mX_test_xg\u001b[0m\u001b[0;34m)\u001b[0m\u001b[0;34m.\u001b[0m\u001b[0mreshape\u001b[0m\u001b[0;34m(\u001b[0m\u001b[0;36m279\u001b[0m\u001b[0;34m,\u001b[0m\u001b[0;36m1024\u001b[0m\u001b[0;34m)\u001b[0m\u001b[0;34m,\u001b[0m\u001b[0mnp\u001b[0m\u001b[0;34m.\u001b[0m\u001b[0marray\u001b[0m\u001b[0;34m(\u001b[0m\u001b[0my_test1\u001b[0m\u001b[0;34m)\u001b[0m\u001b[0;34m.\u001b[0m\u001b[0mreshape\u001b[0m\u001b[0;34m(\u001b[0m\u001b[0;36m279\u001b[0m\u001b[0;34m,\u001b[0m\u001b[0;36m1\u001b[0m\u001b[0;34m)\u001b[0m\u001b[0;34m]\u001b[0m\u001b[0;34m,\u001b[0m\u001b[0maxis\u001b[0m\u001b[0;34m=\u001b[0m\u001b[0;36m1\u001b[0m\u001b[0;34m)\u001b[0m\u001b[0;34m\u001b[0m\u001b[0;34m\u001b[0m\u001b[0m\n\u001b[0m\u001b[1;32m      7\u001b[0m \u001b[0mz\u001b[0m \u001b[0;34m=\u001b[0m \u001b[0mpd\u001b[0m\u001b[0;34m.\u001b[0m\u001b[0mDataFrame\u001b[0m\u001b[0;34m(\u001b[0m\u001b[0mz\u001b[0m\u001b[0;34m)\u001b[0m\u001b[0;34m\u001b[0m\u001b[0;34m\u001b[0m\u001b[0m\n\u001b[1;32m      8\u001b[0m \u001b[0mz\u001b[0m\u001b[0;34m.\u001b[0m\u001b[0mto_csv\u001b[0m\u001b[0;34m(\u001b[0m\u001b[0;34m'test_xg.csv'\u001b[0m\u001b[0;34m,\u001b[0m\u001b[0mindex\u001b[0m\u001b[0;34m=\u001b[0m\u001b[0;32mFalse\u001b[0m\u001b[0;34m)\u001b[0m\u001b[0;34m\u001b[0m\u001b[0;34m\u001b[0m\u001b[0m\n",
            "\u001b[0;31mValueError\u001b[0m: cannot reshape array of size 95232 into shape (279,1024)"
          ]
        }
      ],
      "source": [
        "y_test1 = [np.argmax(y, axis=None) for y in y_test]\n",
        "len(y_test1)\n",
        "y_test1 = np.array(y_test1)\n",
        "y_test1.shape\n",
        "\n",
        "z = np.concatenate([np.array(X_test_xg).reshape(279,1024),np.array(y_test1).reshape(279,1)],axis=1)\n",
        "z = pd.DataFrame(z)\n",
        "z.to_csv('test_xg.csv',index=False)"
      ]
    },
    {
      "cell_type": "code",
      "execution_count": null,
      "metadata": {
        "colab": {
          "base_uri": "https://localhost:8080/"
        },
        "id": "MRqVnTlF0py_",
        "outputId": "7bf9b231-2b80-4647-ad62-cfa57d67bc73"
      },
      "outputs": [
        {
          "name": "stdout",
          "output_type": "stream",
          "text": [
            "[0]\ttrain-merror:0.003086\n",
            "[1]\ttrain-merror:0\n",
            "[2]\ttrain-merror:0\n",
            "[3]\ttrain-merror:0\n",
            "[4]\ttrain-merror:0\n",
            "[5]\ttrain-merror:0\n",
            "[6]\ttrain-merror:0\n",
            "[7]\ttrain-merror:0\n",
            "[8]\ttrain-merror:0\n",
            "[9]\ttrain-merror:0\n",
            "[10]\ttrain-merror:0\n",
            "[11]\ttrain-merror:0\n",
            "[12]\ttrain-merror:0\n",
            "[13]\ttrain-merror:0\n",
            "[14]\ttrain-merror:0\n",
            "[15]\ttrain-merror:0\n",
            "[16]\ttrain-merror:0\n",
            "[17]\ttrain-merror:0\n",
            "[18]\ttrain-merror:0\n",
            "[19]\ttrain-merror:0\n",
            "[20]\ttrain-merror:0\n",
            "[21]\ttrain-merror:0\n",
            "[22]\ttrain-merror:0\n",
            "[23]\ttrain-merror:0\n",
            "[24]\ttrain-merror:0\n",
            "[25]\ttrain-merror:0\n",
            "[26]\ttrain-merror:0\n",
            "[27]\ttrain-merror:0\n",
            "[28]\ttrain-merror:0\n",
            "[29]\ttrain-merror:0\n",
            "[30]\ttrain-merror:0\n",
            "[31]\ttrain-merror:0\n",
            "[32]\ttrain-merror:0\n",
            "[33]\ttrain-merror:0\n",
            "[34]\ttrain-merror:0\n",
            "[35]\ttrain-merror:0\n",
            "[36]\ttrain-merror:0\n",
            "[37]\ttrain-merror:0\n",
            "[38]\ttrain-merror:0\n",
            "[39]\ttrain-merror:0\n",
            "[40]\ttrain-merror:0\n",
            "[41]\ttrain-merror:0\n",
            "[42]\ttrain-merror:0\n",
            "[43]\ttrain-merror:0\n",
            "[44]\ttrain-merror:0\n",
            "[45]\ttrain-merror:0\n",
            "[46]\ttrain-merror:0\n",
            "[47]\ttrain-merror:0\n",
            "[48]\ttrain-merror:0\n",
            "[49]\ttrain-merror:0\n",
            "[50]\ttrain-merror:0\n",
            "[51]\ttrain-merror:0\n",
            "[52]\ttrain-merror:0\n",
            "[53]\ttrain-merror:0\n",
            "[54]\ttrain-merror:0\n",
            "[55]\ttrain-merror:0\n",
            "[56]\ttrain-merror:0\n",
            "[57]\ttrain-merror:0\n",
            "[58]\ttrain-merror:0\n",
            "[59]\ttrain-merror:0\n",
            "[60]\ttrain-merror:0\n",
            "[61]\ttrain-merror:0\n",
            "[62]\ttrain-merror:0\n",
            "[63]\ttrain-merror:0\n",
            "[64]\ttrain-merror:0\n",
            "[65]\ttrain-merror:0\n",
            "[66]\ttrain-merror:0\n",
            "[67]\ttrain-merror:0\n",
            "[68]\ttrain-merror:0\n",
            "[69]\ttrain-merror:0\n",
            "[70]\ttrain-merror:0\n",
            "[71]\ttrain-merror:0\n",
            "[72]\ttrain-merror:0\n",
            "[73]\ttrain-merror:0\n",
            "[74]\ttrain-merror:0\n",
            "[75]\ttrain-merror:0\n",
            "[76]\ttrain-merror:0\n",
            "[77]\ttrain-merror:0\n",
            "[78]\ttrain-merror:0\n",
            "[79]\ttrain-merror:0\n",
            "[80]\ttrain-merror:0\n",
            "[81]\ttrain-merror:0\n",
            "[82]\ttrain-merror:0\n",
            "[83]\ttrain-merror:0\n",
            "[84]\ttrain-merror:0\n",
            "[85]\ttrain-merror:0\n",
            "[86]\ttrain-merror:0\n",
            "[87]\ttrain-merror:0\n",
            "[88]\ttrain-merror:0\n",
            "[89]\ttrain-merror:0\n",
            "[90]\ttrain-merror:0\n",
            "[91]\ttrain-merror:0\n",
            "[92]\ttrain-merror:0\n",
            "[93]\ttrain-merror:0\n",
            "[94]\ttrain-merror:0\n",
            "[95]\ttrain-merror:0\n",
            "[96]\ttrain-merror:0\n",
            "[97]\ttrain-merror:0\n",
            "[98]\ttrain-merror:0\n",
            "[99]\ttrain-merror:0\n",
            "[100]\ttrain-merror:0\n",
            "[101]\ttrain-merror:0\n",
            "[102]\ttrain-merror:0\n",
            "[103]\ttrain-merror:0\n",
            "[104]\ttrain-merror:0\n",
            "[105]\ttrain-merror:0\n",
            "[106]\ttrain-merror:0\n",
            "[107]\ttrain-merror:0\n",
            "[108]\ttrain-merror:0\n",
            "[109]\ttrain-merror:0\n",
            "[110]\ttrain-merror:0\n",
            "[111]\ttrain-merror:0\n",
            "[112]\ttrain-merror:0\n",
            "[113]\ttrain-merror:0\n",
            "[114]\ttrain-merror:0\n",
            "[115]\ttrain-merror:0\n",
            "[116]\ttrain-merror:0\n",
            "[117]\ttrain-merror:0\n",
            "[118]\ttrain-merror:0\n",
            "[119]\ttrain-merror:0\n",
            "[120]\ttrain-merror:0\n",
            "[121]\ttrain-merror:0\n",
            "[122]\ttrain-merror:0\n",
            "[123]\ttrain-merror:0\n",
            "[124]\ttrain-merror:0\n",
            "[125]\ttrain-merror:0\n",
            "[126]\ttrain-merror:0\n",
            "[127]\ttrain-merror:0\n",
            "[128]\ttrain-merror:0\n",
            "[129]\ttrain-merror:0\n",
            "[130]\ttrain-merror:0\n",
            "[131]\ttrain-merror:0\n",
            "[132]\ttrain-merror:0\n",
            "[133]\ttrain-merror:0\n",
            "[134]\ttrain-merror:0\n",
            "[135]\ttrain-merror:0\n",
            "[136]\ttrain-merror:0\n",
            "[137]\ttrain-merror:0\n",
            "[138]\ttrain-merror:0\n",
            "[139]\ttrain-merror:0\n",
            "[140]\ttrain-merror:0\n",
            "[141]\ttrain-merror:0\n",
            "[142]\ttrain-merror:0\n",
            "[143]\ttrain-merror:0\n",
            "[144]\ttrain-merror:0\n",
            "[145]\ttrain-merror:0\n",
            "[146]\ttrain-merror:0\n",
            "[147]\ttrain-merror:0\n",
            "[148]\ttrain-merror:0\n",
            "[149]\ttrain-merror:0\n",
            "[150]\ttrain-merror:0\n",
            "[151]\ttrain-merror:0\n",
            "[152]\ttrain-merror:0\n",
            "[153]\ttrain-merror:0\n",
            "[154]\ttrain-merror:0\n",
            "[155]\ttrain-merror:0\n",
            "[156]\ttrain-merror:0\n",
            "[157]\ttrain-merror:0\n",
            "[158]\ttrain-merror:0\n",
            "[159]\ttrain-merror:0\n",
            "[160]\ttrain-merror:0\n",
            "[161]\ttrain-merror:0\n",
            "[162]\ttrain-merror:0\n",
            "[163]\ttrain-merror:0\n",
            "[164]\ttrain-merror:0\n",
            "[165]\ttrain-merror:0\n",
            "[166]\ttrain-merror:0\n",
            "[167]\ttrain-merror:0\n",
            "[168]\ttrain-merror:0\n",
            "[169]\ttrain-merror:0\n",
            "[170]\ttrain-merror:0\n",
            "[171]\ttrain-merror:0\n",
            "[172]\ttrain-merror:0\n",
            "[173]\ttrain-merror:0\n",
            "[174]\ttrain-merror:0\n",
            "[175]\ttrain-merror:0\n",
            "[176]\ttrain-merror:0\n",
            "[177]\ttrain-merror:0\n",
            "[178]\ttrain-merror:0\n",
            "[179]\ttrain-merror:0\n",
            "[180]\ttrain-merror:0\n",
            "[181]\ttrain-merror:0\n",
            "[182]\ttrain-merror:0\n",
            "[183]\ttrain-merror:0\n",
            "[184]\ttrain-merror:0\n",
            "[185]\ttrain-merror:0\n",
            "[186]\ttrain-merror:0\n",
            "[187]\ttrain-merror:0\n",
            "[188]\ttrain-merror:0\n",
            "[189]\ttrain-merror:0\n",
            "[190]\ttrain-merror:0\n",
            "[191]\ttrain-merror:0\n",
            "[192]\ttrain-merror:0\n",
            "[193]\ttrain-merror:0\n",
            "[194]\ttrain-merror:0\n",
            "[195]\ttrain-merror:0\n",
            "[196]\ttrain-merror:0\n",
            "[197]\ttrain-merror:0\n",
            "[198]\ttrain-merror:0\n",
            "[199]\ttrain-merror:0\n"
          ]
        }
      ],
      "source": [
        "train = pd.read_csv('train_xg.csv')\n",
        "train_y = train['1024'].astype('int')\n",
        "train_x = train.drop(['1024'],axis=1)\n",
        "dataset = xgboost.DMatrix(train_x, label=train_y)\n",
        "watchlist = [(dataset, 'train')]\n",
        "params = {'max_depth':7, 'eta':0.2, 'silent':1, 'num_class':6,'objective':'multi:softmax' }\n",
        "model_xg = xgboost.train(params, dataset, num_boost_round=200, evals=watchlist)"
      ]
    },
    {
      "cell_type": "code",
      "execution_count": null,
      "metadata": {
        "id": "D5lmANGq0sFe"
      },
      "outputs": [],
      "source": [
        "test = pd.read_csv('test_xg.csv')\n",
        "test_y = test['1024'].astype('int')\n",
        "test_x = test.drop(['1024'],axis=1)"
      ]
    },
    {
      "cell_type": "code",
      "execution_count": null,
      "metadata": {
        "id": "o5gPNl4O0ujm"
      },
      "outputs": [],
      "source": [
        "test_x = xgboost.DMatrix(test_x)\n",
        "result = model_xg.predict(test_x)\n",
        "predicted_labels = model_xg.predict(test_x)"
      ]
    },
    {
      "cell_type": "code",
      "execution_count": null,
      "metadata": {
        "colab": {
          "base_uri": "https://localhost:8080/"
        },
        "id": "Qt-8rx8ptXLb",
        "outputId": "0a9cdb44-767d-4147-ea66-423d4e6668ac"
      },
      "outputs": [
        {
          "name": "stdout",
          "output_type": "stream",
          "text": [
            "Accuracy: 0.993\n"
          ]
        }
      ],
      "source": [
        "from sklearn.metrics import accuracy_score\n",
        "# evaluate performance\n",
        "yhat = model_xg.predict(test_x)\n",
        "score = accuracy_score(test_y, yhat)\n",
        "print('Accuracy: %.3f' % score)"
      ]
    },
    {
      "cell_type": "code",
      "execution_count": null,
      "metadata": {
        "colab": {
          "base_uri": "https://localhost:8080/"
        },
        "id": "2KtKFPYs0yTF",
        "outputId": "7933714e-27bf-4a73-aa47-7bad57e310a4"
      },
      "outputs": [
        {
          "name": "stdout",
          "output_type": "stream",
          "text": [
            "              precision    recall  f1-score   support\n",
            "\n",
            "       Anger       1.00      1.00      1.00        32\n",
            "     Disgust       0.98      1.00      0.99        62\n",
            "        Fear       0.95      1.00      0.97        19\n",
            "       Happy       1.00      1.00      1.00        69\n",
            "     Sadness       1.00      0.96      0.98        26\n",
            "    Surprise       1.00      0.99      0.99        71\n",
            "\n",
            "    accuracy                           0.99       279\n",
            "   macro avg       0.99      0.99      0.99       279\n",
            "weighted avg       0.99      0.99      0.99       279\n",
            "\n",
            "[[32  0  0  0  0  0]\n",
            " [ 0 62  0  0  0  0]\n",
            " [ 0  0 19  0  0  0]\n",
            " [ 0  0  0 69  0  0]\n",
            " [ 0  0  1  0 25  0]\n",
            " [ 0  1  0  0  0 70]]\n"
          ]
        }
      ],
      "source": [
        "print(metrics.classification_report(test_y, result, target_names =labels_text))\n",
        "print(metrics.confusion_matrix(test_y, result))"
      ]
    },
    {
      "cell_type": "code",
      "execution_count": null,
      "metadata": {
        "colab": {
          "base_uri": "https://localhost:8080/",
          "height": 286
        },
        "id": "8MNgnxGb_vMe",
        "outputId": "dff95d77-5c5e-4b8d-e330-bcf2716f478e"
      },
      "outputs": [
        {
          "data": {
            "text/plain": [
              "<matplotlib.axes._subplots.AxesSubplot at 0x7fdd3faffdd0>"
            ]
          },
          "execution_count": 81,
          "metadata": {},
          "output_type": "execute_result"
        },
        {
          "data": {
            "image/png": "[encoded data removed]",
            "text/plain": [
              "<Figure size 432x288 with 2 Axes>"
            ]
          },
          "metadata": {},
          "output_type": "display_data"
        }
      ],
      "source": [
        "from operator import index\n",
        "results = confusion_matrix(test_y, result)\n",
        "cm_array_df = pd.DataFrame(results, index=labels_text, columns=labels_text)\n",
        "import seaborn as sns\n",
        "\n",
        "# sns.heatmap(results, annot=True,  cmap=\"Greens\")\n",
        "plt.savefig('efficientB6CK+.jpg')\n",
        "sns.heatmap(cm_array_df, annot=True,  cmap=\"Greens\")"
      ]
    },
    {
      "cell_type": "code",
      "execution_count": null,
      "metadata": {
        "id": "H4wEyfxf00wk"
      },
      "outputs": [],
      "source": [
        "from sklearn.metrics import confusion_matrix\n",
        "cnf_matrix = confusion_matrix(test_y, result)\n",
        "print(cnf_matrix)"
      ]
    },
    {
      "cell_type": "code",
      "execution_count": null,
      "metadata": {
        "colab": {
          "base_uri": "https://localhost:8080/",
          "height": 848
        },
        "id": "ZHO3CVim01Z0",
        "outputId": "781cdb10-f8e3-4c19-c37d-71015e208431"
      },
      "outputs": [
        {
          "name": "stdout",
          "output_type": "stream",
          "text": [
            "              precision    recall  f1-score   support\n",
            "\n",
            "       Anger       1.00      1.00      1.00        32\n",
            "     Disgust       0.98      1.00      0.99        62\n",
            "        Fear       0.95      1.00      0.97        19\n",
            "       Happy       1.00      1.00      1.00        69\n",
            "     Sadness       1.00      0.96      0.98        26\n",
            "    Surprise       1.00      0.99      0.99        71\n",
            "\n",
            "    accuracy                           0.99       279\n",
            "   macro avg       0.99      0.99      0.99       279\n",
            "weighted avg       0.99      0.99      0.99       279\n",
            "\n",
            "[[32  0  0  0  0  0]\n",
            " [ 0 62  0  0  0  0]\n",
            " [ 0  0 19  0  0  0]\n",
            " [ 0  0  0 69  0  0]\n",
            " [ 0  0  1  0 25  0]\n",
            " [ 0  1  0  0  0 70]]\n"
          ]
        },
        {
          "data": {
            "image/png": "[encoded data removed]",
            "text/plain": [
              "<Figure size 540x540 with 1 Axes>"
            ]
          },
          "metadata": {},
          "output_type": "display_data"
        },
        {
          "data": {
            "text/plain": [
              "<Figure size 432x288 with 0 Axes>"
            ]
          },
          "metadata": {},
          "output_type": "display_data"
        }
      ],
      "source": [
        "print(metrics.classification_report(test_y, result, target_names=labels_text))\n",
        "print(metrics.confusion_matrix(test_y, result))\n",
        "\n",
        "fig, ax = plt.subplots(figsize=(7.5, 7.5))\n",
        "ax.matshow(cnf_matrix, cmap=plt.cm.viridis_r, alpha=0.3)\n",
        "for i in range(cnf_matrix.shape[0]):\n",
        "    for j in range(cnf_matrix.shape[1]):\n",
        "        ax.text(x=j, y=i,s=cnf_matrix[i, j], va='center', ha='center', size='xx-large')\n",
        "\n",
        "plt.xlabel('Predictions', fontsize=18)\n",
        "plt.ylabel('Actuals', fontsize=18)\n",
        "plt.title('Confusion Matrix CK+', fontsize=18)\n",
        "plt.show()\n",
        "plt.savefig('efficienetxgboostck.jpg')\n"
      ]
    },
    {
      "cell_type": "code",
      "execution_count": null,
      "metadata": {
        "id": "cdEcDZkX9f9F"
      },
      "outputs": [],
      "source": [
        "img_anger ='/content/drive/MyDrive/CKPlus48/anger/S010_004_00000018.png'"
      ]
    },
    {
      "cell_type": "code",
      "execution_count": null,
      "metadata": {
        "colab": {
          "base_uri": "https://localhost:8080/",
          "height": 217
        },
        "id": "hDvmmU3y-FBk",
        "outputId": "9afed39e-a4ea-4df1-b88b-4bd2e623aa6f"
      },
      "outputs": [
        {
          "ename": "TypeError",
          "evalue": "ignored",
          "output_type": "error",
          "traceback": [
            "\u001b[0;31m---------------------------------------------------------------------------\u001b[0m",
            "\u001b[0;31mTypeError\u001b[0m                                 Traceback (most recent call last)",
            "\u001b[0;32m<ipython-input-91-eb8c00f9e0a0>\u001b[0m in \u001b[0;36m<module>\u001b[0;34m()\u001b[0m\n\u001b[1;32m      1\u001b[0m \u001b[0;31m# anger = cv2.imread('/content/drive/MyDrive/CKPlus48/anger/S010_004_00000018.png')\u001b[0m\u001b[0;34m\u001b[0m\u001b[0;34m\u001b[0m\u001b[0;34m\u001b[0m\u001b[0m\n\u001b[1;32m      2\u001b[0m \u001b[0mdisgust\u001b[0m \u001b[0;34m=\u001b[0m\u001b[0;34m'/content/drive/MyDrive/CKPlus48/disgust/S005_001_00000010.png'\u001b[0m\u001b[0;34m\u001b[0m\u001b[0;34m\u001b[0m\u001b[0m\n\u001b[0;32m----> 3\u001b[0;31m \u001b[0mimg_disgust\u001b[0m \u001b[0;34m=\u001b[0m \u001b[0mcv2\u001b[0m\u001b[0;34m.\u001b[0m\u001b[0mresize\u001b[0m\u001b[0;34m(\u001b[0m\u001b[0mdisgust\u001b[0m\u001b[0;34m,\u001b[0m\u001b[0;34m(\u001b[0m\u001b[0;36m48\u001b[0m\u001b[0;34m,\u001b[0m\u001b[0;36m48\u001b[0m\u001b[0;34m)\u001b[0m\u001b[0;34m)\u001b[0m\u001b[0;34m\u001b[0m\u001b[0;34m\u001b[0m\u001b[0m\n\u001b[0m\u001b[1;32m      4\u001b[0m \u001b[0mplt\u001b[0m\u001b[0;34m.\u001b[0m\u001b[0mimshow\u001b[0m\u001b[0;34m(\u001b[0m\u001b[0mimg_disgust\u001b[0m\u001b[0;34m)\u001b[0m\u001b[0;34m\u001b[0m\u001b[0;34m\u001b[0m\u001b[0m\n",
            "\u001b[0;31mTypeError\u001b[0m: Expected Ptr<cv::UMat> for argument '%s'"
          ]
        }
      ],
      "source": [
        "# anger = cv2.imread('/content/drive/MyDrive/CKPlus48/anger/S010_004_00000018.png')\n",
        "disgust ='/content/drive/MyDrive/CKPlus48/disgust/S005_001_00000010.png'\n",
        "img_disgust = cv2.resize(disgust,(48,48))\n",
        "plt.imshow(img_disgust)"
      ]
    },
    {
      "cell_type": "code",
      "execution_count": null,
      "metadata": {
        "id": "oKhG2mmk-HPR"
      },
      "outputs": [],
      "source": [
        "# tf.keras.preprocessing.image.img_to_array\n",
        "## Importing All the usefull libraries\n",
        "import tensorflow as tf2\n",
        "import numpy as np\n",
        "import pandas as pd\n",
        "import matplotlib.pyplot as plt\n",
        "from tensorflow.keras.preprocessing.image import img_to_array\n",
        "from tensorflow.keras import Model\n",
        "from tensorflow.keras import preprocessing\n",
        "def ShowMeWhatYouLearnt(Image, layer, MyModel):\n",
        "    img = img_to_array(Image)\n",
        "    img = np.expand_dims(img, 0)\n",
        "    ### preprocessing for img for vgg16\n",
        "    img = tf2.keras.applications.vgg16.preprocess_input(img)\n",
        "\n",
        "    ## Now lets define a model which will help us\n",
        "    ## see what vgg16 sees\n",
        "    inputs = MyModel.inputs\n",
        "    outputs = MyModel.layers[layer].output\n",
        "    model = Model(inputs=inputs, outputs=outputs)\n",
        "    model.summary()\n",
        "\n",
        "    ## let make predictions to see what the Cnn sees\n",
        "    featureMaps = model.predict(img)\n",
        "\n",
        "    ## Plotting Features\n",
        "    for maps in featureMaps:\n",
        "        plt.figure(figsize=(20,20))\n",
        "        pltNum = 1\n",
        "\n",
        "        for a in range(8):\n",
        "            for b in range(8):\n",
        "                plt.subplot(8, 8, pltNum)\n",
        "                plt.imshow(maps[: ,: ,pltNum - 1], cmap='gray')\n",
        "                pltNum += 1\n",
        "\n",
        "        plt.show()"
      ]
    },
    {
      "cell_type": "code",
      "execution_count": null,
      "metadata": {
        "colab": {
          "base_uri": "https://localhost:8080/",
          "height": 311
        },
        "id": "6eQL8JxV-YKx",
        "outputId": "761f89a9-c6a6-49a0-b990-81e2e0ccd4c8"
      },
      "outputs": [
        {
          "ename": "ValueError",
          "evalue": "ignored",
          "output_type": "error",
          "traceback": [
            "\u001b[0;31m---------------------------------------------------------------------------\u001b[0m",
            "\u001b[0;31mValueError\u001b[0m                                Traceback (most recent call last)",
            "\u001b[0;32m<ipython-input-90-9298730ee1b1>\u001b[0m in \u001b[0;36m<module>\u001b[0;34m()\u001b[0m\n\u001b[0;32m----> 1\u001b[0;31m \u001b[0mShowMeWhatYouLearnt\u001b[0m\u001b[0;34m(\u001b[0m\u001b[0mimg_anger\u001b[0m\u001b[0;34m,\u001b[0m\u001b[0;36m20\u001b[0m\u001b[0;34m,\u001b[0m \u001b[0mmodel\u001b[0m\u001b[0;34m)\u001b[0m\u001b[0;34m\u001b[0m\u001b[0;34m\u001b[0m\u001b[0m\n\u001b[0m",
            "\u001b[0;32m<ipython-input-89-aebf9006edbb>\u001b[0m in \u001b[0;36mShowMeWhatYouLearnt\u001b[0;34m(Image, layer, MyModel)\u001b[0m\n\u001b[1;32m      9\u001b[0m \u001b[0;32mfrom\u001b[0m \u001b[0mtensorflow\u001b[0m\u001b[0;34m.\u001b[0m\u001b[0mkeras\u001b[0m \u001b[0;32mimport\u001b[0m \u001b[0mpreprocessing\u001b[0m\u001b[0;34m\u001b[0m\u001b[0;34m\u001b[0m\u001b[0m\n\u001b[1;32m     10\u001b[0m \u001b[0;32mdef\u001b[0m \u001b[0mShowMeWhatYouLearnt\u001b[0m\u001b[0;34m(\u001b[0m\u001b[0mImage\u001b[0m\u001b[0;34m,\u001b[0m \u001b[0mlayer\u001b[0m\u001b[0;34m,\u001b[0m \u001b[0mMyModel\u001b[0m\u001b[0;34m)\u001b[0m\u001b[0;34m:\u001b[0m\u001b[0;34m\u001b[0m\u001b[0;34m\u001b[0m\u001b[0m\n\u001b[0;32m---> 11\u001b[0;31m     \u001b[0mimg\u001b[0m \u001b[0;34m=\u001b[0m \u001b[0mimg_to_array\u001b[0m\u001b[0;34m(\u001b[0m\u001b[0mImage\u001b[0m\u001b[0;34m)\u001b[0m\u001b[0;34m\u001b[0m\u001b[0;34m\u001b[0m\u001b[0m\n\u001b[0m\u001b[1;32m     12\u001b[0m     \u001b[0mimg\u001b[0m \u001b[0;34m=\u001b[0m \u001b[0mnp\u001b[0m\u001b[0;34m.\u001b[0m\u001b[0mexpand_dims\u001b[0m\u001b[0;34m(\u001b[0m\u001b[0mimg\u001b[0m\u001b[0;34m,\u001b[0m \u001b[0;36m0\u001b[0m\u001b[0;34m)\u001b[0m\u001b[0;34m\u001b[0m\u001b[0;34m\u001b[0m\u001b[0m\n\u001b[1;32m     13\u001b[0m     \u001b[0;31m### preprocessing for img for vgg16\u001b[0m\u001b[0;34m\u001b[0m\u001b[0;34m\u001b[0m\u001b[0;34m\u001b[0m\u001b[0m\n",
            "\u001b[0;32m/usr/local/lib/python3.7/dist-packages/keras/preprocessing/image.py\u001b[0m in \u001b[0;36mimg_to_array\u001b[0;34m(img, data_format, dtype)\u001b[0m\n\u001b[1;32m    241\u001b[0m       \u001b[0mdtype\u001b[0m \u001b[0;34m=\u001b[0m \u001b[0mbackend\u001b[0m\u001b[0;34m.\u001b[0m\u001b[0mfloatx\u001b[0m\u001b[0;34m(\u001b[0m\u001b[0;34m)\u001b[0m\u001b[0;34m\u001b[0m\u001b[0;34m\u001b[0m\u001b[0m\n\u001b[1;32m    242\u001b[0m     \u001b[0mkwargs\u001b[0m\u001b[0;34m[\u001b[0m\u001b[0;34m'dtype'\u001b[0m\u001b[0;34m]\u001b[0m \u001b[0;34m=\u001b[0m \u001b[0mdtype\u001b[0m\u001b[0;34m\u001b[0m\u001b[0;34m\u001b[0m\u001b[0m\n\u001b[0;32m--> 243\u001b[0;31m   \u001b[0;32mreturn\u001b[0m \u001b[0mimage\u001b[0m\u001b[0;34m.\u001b[0m\u001b[0mimg_to_array\u001b[0m\u001b[0;34m(\u001b[0m\u001b[0mimg\u001b[0m\u001b[0;34m,\u001b[0m \u001b[0mdata_format\u001b[0m\u001b[0;34m=\u001b[0m\u001b[0mdata_format\u001b[0m\u001b[0;34m,\u001b[0m \u001b[0;34m**\u001b[0m\u001b[0mkwargs\u001b[0m\u001b[0;34m)\u001b[0m\u001b[0;34m\u001b[0m\u001b[0;34m\u001b[0m\u001b[0m\n\u001b[0m\u001b[1;32m    244\u001b[0m \u001b[0;34m\u001b[0m\u001b[0m\n\u001b[1;32m    245\u001b[0m \u001b[0;34m\u001b[0m\u001b[0m\n",
            "\u001b[0;32m/usr/local/lib/python3.7/dist-packages/keras_preprocessing/image/utils.py\u001b[0m in \u001b[0;36mimg_to_array\u001b[0;34m(img, data_format, dtype)\u001b[0m\n\u001b[1;32m    307\u001b[0m     \u001b[0;31m# or (channel, height, width)\u001b[0m\u001b[0;34m\u001b[0m\u001b[0;34m\u001b[0m\u001b[0;34m\u001b[0m\u001b[0m\n\u001b[1;32m    308\u001b[0m     \u001b[0;31m# but original PIL image has format (width, height, channel)\u001b[0m\u001b[0;34m\u001b[0m\u001b[0;34m\u001b[0m\u001b[0;34m\u001b[0m\u001b[0m\n\u001b[0;32m--> 309\u001b[0;31m     \u001b[0mx\u001b[0m \u001b[0;34m=\u001b[0m \u001b[0mnp\u001b[0m\u001b[0;34m.\u001b[0m\u001b[0masarray\u001b[0m\u001b[0;34m(\u001b[0m\u001b[0mimg\u001b[0m\u001b[0;34m,\u001b[0m \u001b[0mdtype\u001b[0m\u001b[0;34m=\u001b[0m\u001b[0mdtype\u001b[0m\u001b[0;34m)\u001b[0m\u001b[0;34m\u001b[0m\u001b[0;34m\u001b[0m\u001b[0m\n\u001b[0m\u001b[1;32m    310\u001b[0m     \u001b[0;32mif\u001b[0m \u001b[0mlen\u001b[0m\u001b[0;34m(\u001b[0m\u001b[0mx\u001b[0m\u001b[0;34m.\u001b[0m\u001b[0mshape\u001b[0m\u001b[0;34m)\u001b[0m \u001b[0;34m==\u001b[0m \u001b[0;36m3\u001b[0m\u001b[0;34m:\u001b[0m\u001b[0;34m\u001b[0m\u001b[0;34m\u001b[0m\u001b[0m\n\u001b[1;32m    311\u001b[0m         \u001b[0;32mif\u001b[0m \u001b[0mdata_format\u001b[0m \u001b[0;34m==\u001b[0m \u001b[0;34m'channels_first'\u001b[0m\u001b[0;34m:\u001b[0m\u001b[0;34m\u001b[0m\u001b[0;34m\u001b[0m\u001b[0m\n",
            "\u001b[0;31mValueError\u001b[0m: could not convert string to float: '/content/drive/MyDrive/CKPlus48/anger/S010_004_00000018.png'"
          ]
        }
      ],
      "source": [
        "ShowMeWhatYouLearnt(img_anger,20, model)"
      ]
    },
    {
      "cell_type": "code",
      "source": [
        "# Create an explainer object\n",
        "explainer = shap.Explainer(model_xg)\n",
        "\n",
        "# Calculate SHAP values for a set of samples\n",
        "shap_values = explainer(train_x)\n"
      ],
      "metadata": {
        "id": "qkGw6XxQcJ6e"
      },
      "execution_count": null,
      "outputs": []
    }
  ],
  "metadata": {
    "accelerator": "GPU",
    "colab": {
      "machine_shape": "hm",
      "provenance": [],
      "gpuType": "T4",
      "mount_file_id": "1AuEHgVvQQOYJfNPWt4DBpS7UVZtvLi7s",
      "authorship_tag": "ABX9TyMLRl9T81/PgZtPc5xfuORq",
      "include_colab_link": true
    },
    "kernelspec": {
      "display_name": "Python 3",
      "name": "python3"
    },
    "language_info": {
      "name": "python"
    }
  },
  "nbformat": 4,
  "nbformat_minor": 0
}